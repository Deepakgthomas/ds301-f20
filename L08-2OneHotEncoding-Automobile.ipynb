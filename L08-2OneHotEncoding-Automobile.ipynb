{
 "cells": [
  {
   "cell_type": "markdown",
   "metadata": {},
   "source": [
    "**DS 301: Applied Data Modeling and Predictive Analysis**\n",
    "\n",
    "**Lecture 8 – One-Hot Encoding**\n",
    "\n",
    "# One-Hot Encoding\n",
    "Nok Wongpiromsarn, 9 September 2020"
   ]
  },
  {
   "cell_type": "markdown",
   "metadata": {},
   "source": [
    "**Load the automobile price data and apply some filtering as in Lecture 7**\n",
    "\n",
    "Automobile_price_data_Raw.csv can be downloaded from\n",
    "\n",
    "https://github.com/MicrosoftLearning/Principles-of-Machine-Learning-Python/tree/master/Module3\n",
    "\n",
    "We put it under the *datasets* folder."
   ]
  },
  {
   "cell_type": "code",
   "execution_count": null,
   "metadata": {},
   "outputs": [],
   "source": [
    "import os\n",
    "import pandas as pd\n",
    "\n",
    "data_path = os.path.join(\"datasets\", \"automobile.csv\")\n",
    "data = pd.read_csv(data_path)\n",
    "\n",
    "# Remove all rows with ? price or horsepower\n",
    "data = data[(data.price != \"?\") & (data.horsepower != \"?\")]\n",
    "\n",
    "# Change the data type of price and horsepower from *object* to a suitable numeric type\n",
    "data.price = pd.to_numeric(data.price)\n",
    "data.horsepower = pd.to_numeric(data.horsepower)\n",
    "\n",
    "# Check info again\n",
    "data.head(10)"
   ]
  },
  {
   "cell_type": "markdown",
   "metadata": {},
   "source": [
    "**Apply one-hot encoding to the body-style column**"
   ]
  },
  {
   "cell_type": "code",
   "execution_count": null,
   "metadata": {},
   "outputs": [],
   "source": [
    "body_1hot = pd.get_dummies(data['body-style'], prefix='body-style')\n",
    "data = pd.concat([data, body_1hot], axis=1)\n",
    "data.head(10)"
   ]
  },
  {
   "cell_type": "code",
   "execution_count": null,
   "metadata": {},
   "outputs": [],
   "source": [
    "# Remove the 'body-style' column. \n",
    "# Specify inplace=True to delete the column without having to reassign data.\n",
    "data.drop('body-style', axis=1, inplace=True)\n",
    "data.head(10)"
   ]
  },
  {
   "cell_type": "code",
   "execution_count": null,
   "metadata": {},
   "outputs": [],
   "source": [
    "from sklearn.model_selection import train_test_split\n",
    "from sklearn.linear_model import LinearRegression\n",
    "from sklearn.metrics import mean_squared_error\n",
    "\n",
    "x = data[['engine-size', 'curb-weight', 'width', 'highway-mpg',\n",
    "          'body-style_convertible', 'body-style_hardtop', 'body-style_hatchback', \n",
    "          'body-style_sedan', 'body-style_wagon']]\n",
    "y = data['price']\n",
    "\n",
    "# Split the data into training and test sets\n",
    "x_train, x_test, y_train, y_test = train_test_split(x, y, test_size=0.2, random_state=4)\n",
    "\n",
    "# Apply least squares linear regression\n",
    "reg = LinearRegression().fit(x_train, y_train)\n",
    "print(\"Coefficient: {}\".format(reg.coef_))\n",
    "print(\"Intercept: {}\".format(reg.intercept_))\n",
    "\n",
    "y_test_predict = reg.predict(x_test)\n",
    "rmse = mean_squared_error(y_test, y_test_predict, squared=False)\n",
    "rsquared = reg.score(x_test, y_test)\n",
    "print(\"RMSE: {}\".format(rmse))\n",
    "print(\"Coefficient of determination: {}\".format(rsquared))"
   ]
  },
  {
   "cell_type": "code",
   "execution_count": null,
   "metadata": {},
   "outputs": [],
   "source": []
  }
 ],
 "metadata": {
  "kernelspec": {
   "display_name": "Python 3",
   "language": "python",
   "name": "python3"
  },
  "language_info": {
   "codemirror_mode": {
    "name": "ipython",
    "version": 3
   },
   "file_extension": ".py",
   "mimetype": "text/x-python",
   "name": "python",
   "nbconvert_exporter": "python",
   "pygments_lexer": "ipython3",
   "version": "3.8.3"
  }
 },
 "nbformat": 4,
 "nbformat_minor": 4
}
