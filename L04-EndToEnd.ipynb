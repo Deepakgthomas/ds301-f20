{
 "cells": [
  {
   "cell_type": "markdown",
   "metadata": {},
   "source": [
    "**DS 301: Applied Data Modeling and Predictive Analysis**\n",
    "\n",
    "**Lecture 4 – End-to-End Machine Learning Project**\n",
    "\n",
    "# California Housing Prices Dataset \n",
    "\n",
    "Nok Wongpiromsarn, 26 August 2020\n",
    "\n",
    "**Credit:** The large portion of the code has been taken from Chapter 2 of Aurélien Géron, Hands-On Machine Learning with Scikit-Learn, Keras, and TensorFlow"
   ]
  },
  {
   "cell_type": "markdown",
   "metadata": {},
   "source": [
    "## Step 2 Get the Data\n",
    "\n",
    "**2.1 Load the data using pandas**"
   ]
  },
  {
   "cell_type": "code",
   "execution_count": null,
   "metadata": {},
   "outputs": [],
   "source": [
    "import os\n",
    "import pandas as pd\n",
    "\n",
    "data_path = os.path.join(\"datasets\", \"housing.csv\")\n",
    "data = pd.read_csv(data_path)"
   ]
  },
  {
   "cell_type": "markdown",
   "metadata": {},
   "source": [
    "**2.2 Take a Quick Look at the Data Structure**\n",
    "\n",
    "Examine the top 10 rows of the data"
   ]
  },
  {
   "cell_type": "code",
   "execution_count": null,
   "metadata": {},
   "outputs": [],
   "source": [
    "data.head(10)"
   ]
  },
  {
   "cell_type": "markdown",
   "metadata": {},
   "source": [
    "Get a quick description of the data"
   ]
  },
  {
   "cell_type": "code",
   "execution_count": null,
   "metadata": {},
   "outputs": [],
   "source": [
    "data.info()"
   ]
  },
  {
   "cell_type": "markdown",
   "metadata": {},
   "source": [
    "Get counts for categorical attribute"
   ]
  },
  {
   "cell_type": "code",
   "execution_count": null,
   "metadata": {},
   "outputs": [],
   "source": [
    "data[\"ocean_proximity\"].value_counts()"
   ]
  },
  {
   "cell_type": "markdown",
   "metadata": {},
   "source": [
    "Get a summary of the numerical attributes"
   ]
  },
  {
   "cell_type": "code",
   "execution_count": null,
   "metadata": {},
   "outputs": [],
   "source": [
    "data.describe()"
   ]
  },
  {
   "cell_type": "markdown",
   "metadata": {},
   "source": [
    "Plot a histogram"
   ]
  },
  {
   "cell_type": "code",
   "execution_count": null,
   "metadata": {},
   "outputs": [],
   "source": [
    "import matplotlib.pyplot as plt\n",
    "data.hist(bins=50, figsize=(20,15))\n",
    "plt.show()"
   ]
  },
  {
   "cell_type": "markdown",
   "metadata": {},
   "source": [
    "**2.3 Create a Test Set**\n",
    "\n",
    "Split the data into training and test sets"
   ]
  },
  {
   "cell_type": "code",
   "execution_count": null,
   "metadata": {},
   "outputs": [],
   "source": [
    "from sklearn.model_selection import train_test_split\n",
    "\n",
    "train_set, test_set = train_test_split(data, test_size=0.2, random_state=42)"
   ]
  },
  {
   "cell_type": "markdown",
   "metadata": {},
   "source": [
    "Use stratified sampling to ensure that the test set is representative of the various categories of median income"
   ]
  },
  {
   "cell_type": "code",
   "execution_count": null,
   "metadata": {},
   "outputs": [],
   "source": [
    "# Create an income category attribute by arranging the median income into bins \n",
    "# (0, 1.5], (1.5, 3.0], (3.0, 4.5], (4.5, 6.0] (6.0, inf]\n",
    "import numpy as np\n",
    "data[\"income_cat\"] = pd.cut(data[\"median_income\"],\n",
    "                            bins=[0., 1.5, 3.0, 4.5, 6., np.inf],\n",
    "                            labels=[1, 2, 3, 4, 5])\n",
    "\n",
    "# Do stratified sampling based on income category\n",
    "from sklearn.model_selection import StratifiedShuffleSplit\n",
    "split = StratifiedShuffleSplit(n_splits=1, test_size=0.2, random_state=42)\n",
    "for train_index, test_index in split.split(data, data[\"income_cat\"]):\n",
    "    train_set = data.loc[train_index]\n",
    "    test_set = data.loc[test_index]\n",
    "\n",
    "# Remove the income_cat attribute so the data is back to its original state\n",
    "# Here, axis=1 indicates dropping labels from columns\n",
    "for s in (train_set, test_set):\n",
    "    s.drop(\"income_cat\", axis=1, inplace=True)"
   ]
  },
  {
   "cell_type": "markdown",
   "metadata": {},
   "source": [
    "## Step3: Discover and Visualize the Data to Gain Insights\n",
    "\n",
    "**3.1 Visualize the geographical data**"
   ]
  },
  {
   "cell_type": "code",
   "execution_count": null,
   "metadata": {},
   "outputs": [],
   "source": [
    "train_set.plot(kind=\"scatter\", x=\"longitude\", y=\"latitude\", alpha=0.4,\n",
    "              s=train_set[\"population\"]/100, label=\"population\", figsize=(10,7),\n",
    "              c=\"median_house_value\", cmap=plt.get_cmap(\"jet\"), colorbar=True)"
   ]
  },
  {
   "cell_type": "markdown",
   "metadata": {},
   "source": [
    "**3.2 Look for correlations**"
   ]
  },
  {
   "cell_type": "code",
   "execution_count": null,
   "metadata": {},
   "outputs": [],
   "source": [
    "# Compute the correlations\n",
    "corr_matrix = train_set.corr()\n",
    "print(corr_matrix[\"median_house_value\"].sort_values(ascending=False))\n",
    "\n",
    "# Plot pairwise relationships of relevant features.\n",
    "from pandas.plotting import scatter_matrix\n",
    "\n",
    "attributes = [\"median_house_value\",\n",
    "              \"median_income\",\n",
    "              \"total_rooms\",\n",
    "              \"housing_median_age\",\n",
    "             ]\n",
    "scatter_matrix(train_set[attributes], figsize=(12,8));"
   ]
  },
  {
   "cell_type": "markdown",
   "metadata": {},
   "source": [
    "**3.3 Experimenting with Attribute Combinations**"
   ]
  },
  {
   "cell_type": "code",
   "execution_count": null,
   "metadata": {},
   "outputs": [],
   "source": [
    "train_set[\"bedrooms_per_room\"] = train_set[\"total_bedrooms\"]/train_set[\"total_rooms\"]\n",
    "\n",
    "print(train_set.corr()[\"median_house_value\"].sort_values(ascending=False))\n",
    "attributes = [\"median_house_value\",\n",
    "              \"total_bedrooms\",\n",
    "              \"total_rooms\",\n",
    "              \"bedrooms_per_room\",\n",
    "             ]\n",
    "scatter_matrix(train_set[attributes], figsize=(12,8));"
   ]
  },
  {
   "cell_type": "markdown",
   "metadata": {},
   "source": [
    "## Step 4: Prepare the Data for Machine Learning Algorithms\n",
    "\n",
    "**4.1 Data Cleaning**"
   ]
  },
  {
   "cell_type": "code",
   "execution_count": null,
   "metadata": {},
   "outputs": [],
   "source": [
    "train_set.info()\n",
    "\n",
    "# Drop instances with missing features\n",
    "train_set.drop(\"bedrooms_per_room\", axis=1, inplace=True)\n",
    "train_set.dropna(subset=[\"total_bedrooms\"], inplace=True)\n",
    "\n",
    "train_set.info()"
   ]
  },
  {
   "cell_type": "markdown",
   "metadata": {},
   "source": [
    "Separate features and labels"
   ]
  },
  {
   "cell_type": "code",
   "execution_count": null,
   "metadata": {},
   "outputs": [],
   "source": [
    "housing_features = train_set.drop(\"median_house_value\", axis=1)\n",
    "housing_labels = train_set[\"median_house_value\"].copy()"
   ]
  },
  {
   "cell_type": "markdown",
   "metadata": {},
   "source": [
    "**4.2 Handling Text and Categorical Attributes**"
   ]
  },
  {
   "cell_type": "code",
   "execution_count": null,
   "metadata": {},
   "outputs": [],
   "source": [
    "from sklearn.preprocessing import OneHotEncoder\n",
    "\n",
    "# First, we create the binary vector arrays representation of the ocean_proximity feature with One-Hot Encoding\n",
    "housing_cat = housing_features[[\"ocean_proximity\"]]\n",
    "cat_encoder = OneHotEncoder()\n",
    "housing_cat_1hot = cat_encoder.fit_transform(housing_cat).toarray()\n",
    "\n",
    "print(cat_encoder.categories_)\n",
    "print(housing_cat_1hot)\n",
    "\n",
    "# Construct data frame for one hot encoded columns\n",
    "housing_cat_1hot_df = pd.DataFrame(housing_cat_1hot, columns=cat_encoder.get_feature_names())\n",
    "\n",
    "# Reset indices to make sure that concat works properly\n",
    "housing_features.reset_index(drop=True, inplace=True)\n",
    "housing_cat_1hot_df.reset_index(drop=True, inplace=True)\n",
    "\n",
    "# Replace the original \"ocean_proximity\" column with its one hot encoding \n",
    "housing_features = pd.concat([housing_features, housing_cat_1hot_df], axis=1).drop(['ocean_proximity'], axis=1)\n",
    "housing_features.info()"
   ]
  },
  {
   "cell_type": "markdown",
   "metadata": {},
   "source": [
    "**4.3 Feature Scaling**"
   ]
  },
  {
   "cell_type": "code",
   "execution_count": null,
   "metadata": {},
   "outputs": [],
   "source": [
    "from sklearn.preprocessing import StandardScaler\n",
    "\n",
    "scale_1hot = True\n",
    "\n",
    "if scale_1hot:\n",
    "    # Here we apply scaling to all the columns, including one-hot-encoded ones\n",
    "    scaled_values = StandardScaler().fit_transform(housing_features.values)\n",
    "    housing_features = pd.DataFrame(scaled_values, index=housing_features.index, columns=housing_features.columns)\n",
    "else:\n",
    "    # Only applies scaling to the numerical features\n",
    "    features = housing_features.columns[:8]\n",
    "    housing_features[features] = StandardScaler().fit_transform(housing_features[features])\n",
    "\n",
    "pd.options.display.float_format = \"{:.2f}\".format\n",
    "housing_features.describe()"
   ]
  },
  {
   "cell_type": "markdown",
   "metadata": {},
   "source": [
    "## Step 5: Select and Train a Model\n",
    "\n",
    "**5.1 Training and Evaluating on the Training Set**"
   ]
  },
  {
   "cell_type": "code",
   "execution_count": null,
   "metadata": {},
   "outputs": [],
   "source": [
    "# Train a Linear Regression model\n",
    "from sklearn.linear_model import LinearRegression\n",
    "\n",
    "lin_reg = LinearRegression()\n",
    "lin_reg.fit(housing_features, housing_labels)\n",
    "\n",
    "# Measure the RMSE\n",
    "from sklearn.metrics import mean_squared_error\n",
    "\n",
    "predictions = lin_reg.predict(housing_features)\n",
    "lin_rmse = np.sqrt(mean_squared_error(housing_labels, predictions))\n",
    "print(lin_rmse)"
   ]
  },
  {
   "cell_type": "markdown",
   "metadata": {},
   "source": [
    "**5.2 K-fold cross-validation**\n",
    "\n",
    "Split the training set into 10 subsets, train, and evaluate the model 10 times, picking a different subset each time"
   ]
  },
  {
   "cell_type": "code",
   "execution_count": null,
   "metadata": {},
   "outputs": [],
   "source": [
    "from sklearn.model_selection import cross_val_score\n",
    "\n",
    "scores = cross_val_score(lin_reg, housing_features, housing_labels, \n",
    "                         scoring=\"neg_mean_squared_error\", cv=10)\n",
    "rmse_scores = np.sqrt(-scores)\n",
    "np.set_printoptions(formatter={'float_kind':\"{:.2f}\".format})\n",
    "print(\"Scores: {}\".format(rmse_scores))\n",
    "print(\"Mean: {:.2f}\".format(rmse_scores.mean()))\n",
    "print(\"standard deviation: {:.2f}\".format(rmse_scores.std()))"
   ]
  },
  {
   "cell_type": "code",
   "execution_count": null,
   "metadata": {},
   "outputs": [],
   "source": []
  }
 ],
 "metadata": {
  "kernelspec": {
   "display_name": "Python 3",
   "language": "python",
   "name": "python3"
  },
  "language_info": {
   "codemirror_mode": {
    "name": "ipython",
    "version": 3
   },
   "file_extension": ".py",
   "mimetype": "text/x-python",
   "name": "python",
   "nbconvert_exporter": "python",
   "pygments_lexer": "ipython3",
   "version": "3.8.3"
  }
 },
 "nbformat": 4,
 "nbformat_minor": 4
}
