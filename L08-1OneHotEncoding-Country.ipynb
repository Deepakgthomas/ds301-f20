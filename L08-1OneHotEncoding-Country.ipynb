{
 "cells": [
  {
   "cell_type": "markdown",
   "metadata": {},
   "source": [
    "**DS 301: Applied Data Modeling and Predictive Analysis**\n",
    "\n",
    "**Lecture 8 – One-Hot Encoding**\n",
    "\n",
    "# One-Hot Encoding\n",
    "Nok Wongpiromsarn, 9 September 2020"
   ]
  },
  {
   "cell_type": "markdown",
   "metadata": {},
   "source": [
    "**Label Encoding with scikit-learn**"
   ]
  },
  {
   "cell_type": "code",
   "execution_count": null,
   "metadata": {},
   "outputs": [],
   "source": [
    "import pandas as pd\n",
    "from sklearn import preprocessing\n",
    "\n",
    "data = pd.DataFrame({'country': ['russia', 'germany', 'australia', 'korea', 'germany']})\n",
    "data['country_encoded'] = preprocessing.LabelEncoder().fit_transform(data['country'])\n",
    "data.head(5)"
   ]
  },
  {
   "cell_type": "markdown",
   "metadata": {},
   "source": [
    "**One-Hot Encoding with scikit-learn**"
   ]
  },
  {
   "cell_type": "code",
   "execution_count": null,
   "metadata": {},
   "outputs": [],
   "source": [
    "from sklearn.preprocessing import OneHotEncoder\n",
    "data = pd.DataFrame({'country': ['russia', 'germany', 'australia', 'korea', 'germany']})\n",
    "cat_encoder = OneHotEncoder()\n",
    "country_1hot = cat_encoder.fit_transform(data[['country']]).toarray()\n",
    "country_1hot_df = pd.DataFrame(country_1hot, columns=cat_encoder.get_feature_names(['country']))\n",
    "\n",
    "# Use pd.concat to join the new columns with the original dataframe.\n",
    "# Specify axis=1 for column (axis=0 is for row).\n",
    "data = pd.concat([data, country_1hot_df], axis=1)\n",
    "data.head(5)"
   ]
  },
  {
   "cell_type": "markdown",
   "metadata": {},
   "source": [
    "**One-Hot Encoding with pandas**"
   ]
  },
  {
   "cell_type": "code",
   "execution_count": null,
   "metadata": {},
   "outputs": [],
   "source": [
    "data = pd.DataFrame({'country': ['russia', 'germany', 'australia', 'korea', 'germany']})\n",
    "country_1hot = pd.get_dummies(data, prefix=['country'])\n",
    "data = pd.concat([data, country_1hot], axis=1)\n",
    "data.head(5)"
   ]
  },
  {
   "cell_type": "markdown",
   "metadata": {},
   "source": [
    "**Dummy encoding with pandas**"
   ]
  },
  {
   "cell_type": "code",
   "execution_count": null,
   "metadata": {},
   "outputs": [],
   "source": [
    "data = pd.DataFrame({'country': ['russia', 'germany', 'australia', 'korea', 'germany']})\n",
    "country_1hot = pd.get_dummies(data, prefix=['country'], drop_first=True)\n",
    "data = pd.concat([data, country_1hot], axis=1)\n",
    "data.head(5)"
   ]
  },
  {
   "cell_type": "code",
   "execution_count": null,
   "metadata": {},
   "outputs": [],
   "source": [
    "# Remove the 'country' column. \n",
    "# Specify inplace=True to delete the column without having to reassign data.\n",
    "data.drop('country', axis=1, inplace=True)\n",
    "data.head(5)"
   ]
  },
  {
   "cell_type": "code",
   "execution_count": null,
   "metadata": {},
   "outputs": [],
   "source": []
  }
 ],
 "metadata": {
  "kernelspec": {
   "display_name": "Python 3",
   "language": "python",
   "name": "python3"
  },
  "language_info": {
   "codemirror_mode": {
    "name": "ipython",
    "version": 3
   },
   "file_extension": ".py",
   "mimetype": "text/x-python",
   "name": "python",
   "nbconvert_exporter": "python",
   "pygments_lexer": "ipython3",
   "version": "3.8.3"
  }
 },
 "nbformat": 4,
 "nbformat_minor": 4
}
