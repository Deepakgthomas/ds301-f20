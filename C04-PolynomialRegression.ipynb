{
 "cells": [
  {
   "cell_type": "markdown",
   "metadata": {},
   "source": [
    "**DS 301: Applied Data Modeling and Predictive Analysis**\n",
    "\n",
    "# Lab 4 – Polynomial Regression\n",
    "\n",
    "Nok Wongpiromsarn, 18 September 2020\n",
    "\n",
    "**Credit:** https://github.com/asukul/DS301-f19/blob/master/Lab3_Polynomial-Regression_HousePrice-v2.ipynb by Adisak Sukul\n",
    "\n",
    "- A portion of the code & theory has been taken from the book - Hands-on machine learning with Scikit-Learn and TensorFlow: concepts, tools, and techniques to build intelligent systems by A. Geron\n",
    "- A portion of visualization has been taken from Kaggle kernels - COMPREHENSIVE DATA EXPLORATION WITH PYTHON\n",
    "Pedro Marcelino - February 2017 https://www.kaggle.com/pmarcelino/comprehensive-data-exploration-with-python\n",
    "\n",
    "**Instructions:**\n",
    "Please go over the sample code shown below and use it as a reference for your lab assignment. Perform linear and polynomial regression with 'SalePrice' as the output using the following selected features:\n",
    "1. 'Year Built'\n",
    "   1. Set up the training and test sets with 'YearBuilt' as input and 'SalePrice' as output.\n",
    "   2. Perform linear regression and evaluate your linear regression model with MSE and RMSE.\n",
    "   3. Perform polynomial regression and evaluate your polynomial regression model with MSE and RMSE. Determine the polynomial degree and explain your choice. (Hint: Use the MSE and RMSE to pick the polynomial degree.)\n",
    "   4. Retrain your polynomial model by applying one of the regularization techniques. Keep the same polynomial degree. Try with at least 3 values of alpha. Don't forget to scale the data! Evaluate your new model.\n",
    "   5. Plot the results of the 5 models.\n",
    "2. 'Year Built' and 'Overall Quality'\n",
    "   1. Set up the training and test sets with 'YearBuilt' and 'OverallQual' as input and 'SalePrice' as output.\n",
    "   2. Perform linear regression and evaluate your linear regression model with MSE and RMSE.\n",
    "   3. Perform polynomial regression with degree=3 and evaluate your polynomial regression model with MSE and RMSE.\n",
    "   4. Retrain your polynomial model by applying one of the regularization techniques. Keep the same polynomial degree. Try with at least 3 values of alpha. Don't forget to scale the data! Evaluate your new model.\n",
    "   5. Plot the results of all the 5 models.\n",
    "3. Describe and compare the results with different models.\n",
    "4. Explain the computation time for different models and features"
   ]
  },
  {
   "cell_type": "markdown",
   "metadata": {},
   "source": [
    "**Visualize the data**"
   ]
  },
  {
   "cell_type": "code",
   "execution_count": null,
   "metadata": {},
   "outputs": [],
   "source": [
    "import numpy as np\n",
    "import pandas as pd\n",
    "import matplotlib.pyplot as plt\n",
    "import seaborn as sns\n",
    "\n",
    "df = pd.read_csv(\"datasets/house-price.csv\")"
   ]
  },
  {
   "cell_type": "code",
   "execution_count": null,
   "metadata": {},
   "outputs": [],
   "source": [
    "df.head(20)"
   ]
  },
  {
   "cell_type": "code",
   "execution_count": null,
   "metadata": {},
   "outputs": [],
   "source": [
    "df.columns"
   ]
  },
  {
   "cell_type": "code",
   "execution_count": null,
   "metadata": {},
   "outputs": [],
   "source": [
    "df['SalePrice'].describe()"
   ]
  },
  {
   "cell_type": "code",
   "execution_count": null,
   "metadata": {},
   "outputs": [],
   "source": [
    "#histogram\n",
    "sns.distplot(df['SalePrice']);"
   ]
  },
  {
   "cell_type": "code",
   "execution_count": null,
   "metadata": {},
   "outputs": [],
   "source": [
    "#correlation matrix\n",
    "corrmat = df.corr()\n",
    "f, ax = plt.subplots(figsize=(12, 9))\n",
    "sns.heatmap(corrmat, vmax=.8, square=True);"
   ]
  },
  {
   "cell_type": "code",
   "execution_count": null,
   "metadata": {},
   "outputs": [],
   "source": [
    "#saleprice correlation matrix\n",
    "k = 10 #number of variables for heatmap\n",
    "cols = corrmat.nlargest(k, 'SalePrice')['SalePrice'].index\n",
    "cm = np.corrcoef(df[cols].values.T)\n",
    "sns.set(font_scale=1.25)\n",
    "hm = sns.heatmap(cm, cbar=True, annot=True, square=True, fmt='.2f', annot_kws={'size': 10}, yticklabels=cols.values, xticklabels=cols.values)\n",
    "plt.show()"
   ]
  },
  {
   "cell_type": "code",
   "execution_count": null,
   "metadata": {},
   "outputs": [],
   "source": [
    "#selected fewer feature for pairplot (scatterplot matrix)\n",
    "#let's select fewer features that having hige correlation with our target SalePrice\n",
    "sns.set()\n",
    "cols = ['SalePrice', 'OverallQual', 'GrLivArea', 'GarageCars', 'TotalBsmtSF', 'FullBath', 'YearBuilt']\n",
    "sns.pairplot(df[cols], height = 2.5)\n",
    "plt.show();"
   ]
  },
  {
   "cell_type": "code",
   "execution_count": null,
   "metadata": {},
   "outputs": [],
   "source": [
    "#scatterplot\n",
    "sns.set()\n",
    "cols = ['SalePrice', 'OverallQual', 'YearBuilt']\n",
    "sns.pairplot(df[cols], height = 2.5)\n",
    "plt.show();"
   ]
  },
  {
   "cell_type": "markdown",
   "metadata": {},
   "source": [
    "### 1. Start with YearBuilt as input and SalePrice as output\n",
    "\n",
    "**1.1 Set up the training and test sets**"
   ]
  },
  {
   "cell_type": "code",
   "execution_count": null,
   "metadata": {},
   "outputs": [],
   "source": [
    "from sklearn.model_selection import train_test_split\n",
    "\n",
    "X = df['YearBuilt']\n",
    "X = X.values.reshape(-1,1)\n",
    "y = df['SalePrice']\n",
    "\n",
    "X_train, X_test, y_train, y_test = train_test_split(X, y, test_size=0.2, random_state=42)\n",
    "print(X_train)"
   ]
  },
  {
   "cell_type": "markdown",
   "metadata": {},
   "source": [
    "**1.2 Linear regression**"
   ]
  },
  {
   "cell_type": "markdown",
   "metadata": {},
   "source": [
    "Train the model"
   ]
  },
  {
   "cell_type": "code",
   "execution_count": null,
   "metadata": {},
   "outputs": [],
   "source": [
    "from sklearn.linear_model import LinearRegression\n",
    "lin_reg = LinearRegression()\n",
    "lin_reg.fit(X_train, y_train)"
   ]
  },
  {
   "cell_type": "code",
   "execution_count": null,
   "metadata": {},
   "outputs": [],
   "source": [
    "# Plot the result\n",
    "X_plot = np.linspace(1870, 2010, 292).reshape(292, 1)\n",
    "y_plot_linear = lin_reg.predict(X_plot)\n",
    "\n",
    "plt.plot(X, y, \"b.\")\n",
    "plt.plot(X_plot, y_plot_linear, \"r.\")\n",
    "plt.show()"
   ]
  },
  {
   "cell_type": "markdown",
   "metadata": {},
   "source": [
    "Evaluate the model"
   ]
  },
  {
   "cell_type": "code",
   "execution_count": null,
   "metadata": {},
   "outputs": [],
   "source": [
    "y_pred_linear = lin_reg.predict(X_test)"
   ]
  },
  {
   "cell_type": "code",
   "execution_count": null,
   "metadata": {},
   "outputs": [],
   "source": [
    "# MSE\n",
    "from sklearn.metrics import mean_squared_error\n",
    "mse = mean_squared_error(y_test, y_pred_linear)\n",
    "print(\"MSE: {}\".format(mse))\n",
    "\n",
    "# RMSE\n",
    "from math import sqrt\n",
    "rmse = sqrt(mean_squared_error(y_test, y_pred_linear))\n",
    "print(\"RMSE: {}\".format(rmse))"
   ]
  },
  {
   "cell_type": "markdown",
   "metadata": {},
   "source": [
    "**1.3 Polynomial regression**\n",
    "\n",
    "Please play with this polynomial degree, take a look at the performance, and pick the degree that performs best."
   ]
  },
  {
   "cell_type": "code",
   "execution_count": null,
   "metadata": {},
   "outputs": [],
   "source": [
    "from sklearn.preprocessing import PolynomialFeatures\n",
    "\n",
    "# Add the square of each feature in the training set as a new feature\n",
    "poly_features = PolynomialFeatures(degree=2, include_bias=False)\n",
    "X_poly = poly_features.fit_transform(X_train)\n",
    "\n",
    "# X_poly now contains the original feature of X_train plus the square of this feature\n",
    "print(X_poly)\n",
    "\n",
    "# Now fit a LinearRegression model to this extended training data\n",
    "poly_reg = LinearRegression()\n",
    "poly_reg.fit(X_poly, y_train)"
   ]
  },
  {
   "cell_type": "code",
   "execution_count": null,
   "metadata": {},
   "outputs": [],
   "source": [
    "# Plot the result\n",
    "X_plot_poly = poly_features.transform(X_plot)\n",
    "y_plot_poly = poly_reg.predict(X_plot_poly)\n",
    "\n",
    "plt.plot(X, y, \"b.\")\n",
    "plt.plot(X_plot, y_plot_poly, \"r.\")\n",
    "plt.show()"
   ]
  },
  {
   "cell_type": "markdown",
   "metadata": {},
   "source": [
    "Evaluate the model"
   ]
  },
  {
   "cell_type": "code",
   "execution_count": null,
   "metadata": {},
   "outputs": [],
   "source": [
    "X_test_poly = poly_features.transform(X_test)\n",
    "y_pred_poly = poly_reg.predict(X_test_poly)"
   ]
  },
  {
   "cell_type": "code",
   "execution_count": null,
   "metadata": {},
   "outputs": [],
   "source": [
    "mse = mean_squared_error(y_test, y_pred_poly)\n",
    "rmse = sqrt(mean_squared_error(y_test, y_pred_poly))\n",
    "print(\"MSE: {}\".format(mse))\n",
    "print(\"RMSE: {}\".format(rmse))"
   ]
  },
  {
   "cell_type": "markdown",
   "metadata": {},
   "source": [
    "**1.4 Regularized polynomial regression**\n",
    "\n",
    "Feel free to pick your favourite regularization techniques. (The template is using Ridge Regression.) Try with at least 3 different values of alpha."
   ]
  },
  {
   "cell_type": "code",
   "execution_count": null,
   "metadata": {},
   "outputs": [],
   "source": [
    "from sklearn.preprocessing import StandardScaler\n",
    "from sklearn.linear_model import Ridge\n",
    "\n",
    "# First, we add polynomial features\n",
    "poly_features = PolynomialFeatures(degree=2, include_bias=False)\n",
    "X_poly = poly_features.fit_transform(X_train)\n",
    "\n",
    "# Then, apply scaling. This is very important when performing regularization\n",
    "scaler = StandardScaler()\n",
    "X_poly_scaled = scaler.fit_transform(X_poly)\n",
    "\n",
    "# Train Ridge Regression model\n",
    "ridge_reg = Ridge(alpha=0.05, solver=\"cholesky\")\n",
    "ridge_reg.fit(X_poly_scaled, y_train)\n",
    "\n",
    "# Plot the result\n",
    "X_plot_ridge = scaler.transform(X_plot_poly)\n",
    "y_plot_ridge = ridge_reg.predict(X_plot_ridge)\n",
    "\n",
    "plt.plot(X, y, \"b.\")\n",
    "plt.plot(X_plot, y_plot_ridge, \"r.\")\n",
    "plt.show()\n",
    "\n",
    "# Evaluate the model\n",
    "X_test_ridge = scaler.transform(X_test_poly)\n",
    "y_pred_ridge = ridge_reg.predict(X_test_ridge)\n",
    "mse = mean_squared_error(y_test, y_pred_ridge)\n",
    "rmse = sqrt(mean_squared_error(y_test, y_pred_ridge))\n",
    "print(\"MSE: {}\".format(mse))\n",
    "print(\"RMSE: {}\".format(rmse))"
   ]
  },
  {
   "cell_type": "markdown",
   "metadata": {},
   "source": [
    "**1.5 Plot the results of the 5 models**"
   ]
  },
  {
   "cell_type": "code",
   "execution_count": null,
   "metadata": {},
   "outputs": [],
   "source": [
    "plt.plot(X, y, \"b.\")\n",
    "plt.plot(X_plot, y_plot_linear, '-', linewidth=3, label=\"Linear Regression\")\n",
    "plt.plot(X_plot, y_plot_poly, '--', linewidth=3, label=\"Polynomial Regression\")\n",
    "plt.plot(X_plot, y_plot_ridge, ':', linewidth=3, label=\"Ridge Regression\")\n",
    "plt.legend()\n",
    "\n",
    "# Add the plot from regularized polynomial regression\n",
    "\n",
    "plt.show()"
   ]
  },
  {
   "cell_type": "markdown",
   "metadata": {},
   "source": [
    "### 2. Use both YearBuilt and OverallQual as input and SalePrice as output"
   ]
  },
  {
   "cell_type": "code",
   "execution_count": null,
   "metadata": {},
   "outputs": [],
   "source": []
  },
  {
   "cell_type": "markdown",
   "metadata": {},
   "source": [
    "### 3. Describe and compare the results with different models"
   ]
  },
  {
   "cell_type": "markdown",
   "metadata": {},
   "source": []
  },
  {
   "cell_type": "markdown",
   "metadata": {},
   "source": [
    "### 4. Explain the computation time for different models and features"
   ]
  },
  {
   "cell_type": "code",
   "execution_count": null,
   "metadata": {},
   "outputs": [],
   "source": []
  }
 ],
 "metadata": {
  "kernelspec": {
   "display_name": "Python 3",
   "language": "python",
   "name": "python3"
  },
  "language_info": {
   "codemirror_mode": {
    "name": "ipython",
    "version": 3
   },
   "file_extension": ".py",
   "mimetype": "text/x-python",
   "name": "python",
   "nbconvert_exporter": "python",
   "pygments_lexer": "ipython3",
   "version": "3.8.3"
  }
 },
 "nbformat": 4,
 "nbformat_minor": 2
}
