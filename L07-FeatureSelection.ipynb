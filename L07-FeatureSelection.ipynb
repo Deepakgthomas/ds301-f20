{
 "cells": [
  {
   "cell_type": "markdown",
   "metadata": {},
   "source": [
    "**DS 301: Applied Data Modeling and Predictive Analysis**\n",
    "\n",
    "**Lecture 7 – Feature Selection**\n",
    "\n",
    "# Data Manipulation and Visualization\n",
    "Nok Wongpiromsarn, 7 September 2020"
   ]
  },
  {
   "cell_type": "markdown",
   "metadata": {},
   "source": [
    "**Load the automobile price data**\n",
    "\n",
    "Automobile_price_data_Raw.csv can be downloaded from\n",
    "\n",
    "https://github.com/MicrosoftLearning/Principles-of-Machine-Learning-Python/tree/master/Module3\n",
    "\n",
    "We put it under the *datasets* folder."
   ]
  },
  {
   "cell_type": "code",
   "execution_count": null,
   "metadata": {},
   "outputs": [],
   "source": [
    "import os\n",
    "import pandas as pd\n",
    "\n",
    "data_path = os.path.join(\"datasets\", \"automobile.csv\")\n",
    "data = pd.read_csv(data_path)"
   ]
  },
  {
   "cell_type": "markdown",
   "metadata": {},
   "source": [
    "**Examine the data using pandas**"
   ]
  },
  {
   "cell_type": "code",
   "execution_count": null,
   "metadata": {},
   "outputs": [],
   "source": [
    "# Print a concise summary of the data\n",
    "data.info()\n",
    "\n",
    "# Print the first 10 rows of data\n",
    "data.head(10)"
   ]
  },
  {
   "cell_type": "markdown",
   "metadata": {},
   "source": [
    "**Remove rows based on column value and change data type of columns**"
   ]
  },
  {
   "cell_type": "code",
   "execution_count": null,
   "metadata": {},
   "outputs": [],
   "source": [
    "# Remove all rows with ? price or horsepower\n",
    "data = data[(data.price != \"?\") & (data.horsepower != \"?\")]\n",
    "\n",
    "# Change the data type of price and horsepower from *object* to a suitable numeric type\n",
    "data.price = pd.to_numeric(data.price)\n",
    "data.horsepower = pd.to_numeric(data.horsepower)\n",
    "\n",
    "# Check the type of the price column\n",
    "print(\"Price type: {}\".format(data.dtypes[\"price\"]))\n",
    "print(\"Horsepower type: {}\\n\\n\".format(data.dtypes[\"horsepower\"]))\n",
    "\n",
    "# Check info again\n",
    "data.info()"
   ]
  },
  {
   "cell_type": "markdown",
   "metadata": {},
   "source": [
    "**Filter the columns based on data type**\n",
    "\n",
    "Select only columns with *object* type."
   ]
  },
  {
   "cell_type": "code",
   "execution_count": null,
   "metadata": {},
   "outputs": [],
   "source": [
    "# Print the type of each column\n",
    "print(\"{}\\n\\n\".format(data.dtypes))\n",
    "\n",
    "# Construct a dataframe data_object with only columns of type object\n",
    "data_object = data.select_dtypes(include=[object])\n",
    "\n",
    "# Check data_object info\n",
    "data_object.info()"
   ]
  },
  {
   "cell_type": "markdown",
   "metadata": {},
   "source": [
    "**Plot the data using seaborn**\n",
    "\n",
    "Use *boxplot* to show the three quartile values of the distribution along with extreme values."
   ]
  },
  {
   "cell_type": "code",
   "execution_count": null,
   "metadata": {},
   "outputs": [],
   "source": [
    "import matplotlib.pyplot as plt\n",
    "import seaborn as sns \n",
    "\n",
    "plt.figure(figsize=(26, 12))\n",
    "sns.boxplot(x=\"make\", y=\"price\", data=data)"
   ]
  },
  {
   "cell_type": "code",
   "execution_count": null,
   "metadata": {},
   "outputs": [],
   "source": [
    "plt.figure(figsize=(15, 8))\n",
    "sns.boxplot(x=\"body-style\", y=\"price\", data=data)"
   ]
  },
  {
   "cell_type": "code",
   "execution_count": null,
   "metadata": {},
   "outputs": [],
   "source": [
    "plt.figure(figsize=(15, 8))\n",
    "sns.boxplot(x=\"num-of-doors\", y=\"price\", data=data)"
   ]
  },
  {
   "cell_type": "code",
   "execution_count": null,
   "metadata": {},
   "outputs": [],
   "source": [
    "plt.figure(figsize=(15, 8))\n",
    "sns.boxplot(x=\"fuel-type\", y=\"price\", data=data)"
   ]
  },
  {
   "cell_type": "code",
   "execution_count": null,
   "metadata": {},
   "outputs": [],
   "source": [
    "plt.figure(figsize=(15, 8))\n",
    "sns.boxplot(x=\"aspiration\", y=\"price\", data=data)"
   ]
  },
  {
   "cell_type": "code",
   "execution_count": null,
   "metadata": {},
   "outputs": [],
   "source": [
    "plt.figure(figsize=(15, 8))\n",
    "sns.boxplot(x=\"aspiration\", y=\"price\", hue=\"body-style\", data=data)"
   ]
  },
  {
   "cell_type": "markdown",
   "metadata": {},
   "source": [
    "Use *pairplot* to plot pairwise relationships of relevant features.\n",
    "\n",
    "This creates a grid of Axes such that each numeric variable in data will be shared in the y-axis across a single row and in the x-axis across a single column. The diagonal Axes are treated differently, drawing a plot to show the univariate distribution of the data for the variable in that column.\n",
    "\n",
    "Use *hue* to map plot aspects to different colors."
   ]
  },
  {
   "cell_type": "code",
   "execution_count": null,
   "metadata": {},
   "outputs": [],
   "source": [
    "sns.pairplot(data.loc[:,[\"city-mpg\", \"highway-mpg\", \"curb-weight\", \"make\", \"engine-size\", \"price\", \"horsepower\"]], \n",
    "             hue=\"make\", diag_kind=\"hist\");"
   ]
  },
  {
   "cell_type": "markdown",
   "metadata": {},
   "source": [
    "Use *kind=\"reg\"* to fit linear regression models to the scatter plots."
   ]
  },
  {
   "cell_type": "code",
   "execution_count": null,
   "metadata": {},
   "outputs": [],
   "source": [
    "sns.pairplot(data.loc[:,[\"city-mpg\", \"highway-mpg\", \"curb-weight\", \"make\", \"engine-size\", \"price\", \"horsepower\"]], \n",
    "             kind='reg');"
   ]
  },
  {
   "cell_type": "markdown",
   "metadata": {},
   "source": [
    "**Visualize the correlation matrix**"
   ]
  },
  {
   "cell_type": "code",
   "execution_count": null,
   "metadata": {},
   "outputs": [],
   "source": [
    "corr = data.corr()\n",
    "corr.style.background_gradient(cmap='coolwarm').set_precision(2)"
   ]
  },
  {
   "cell_type": "markdown",
   "metadata": {},
   "source": [
    "**Focus on the *price* column, we see that *engine-size* has the highest correlation**"
   ]
  },
  {
   "cell_type": "code",
   "execution_count": null,
   "metadata": {},
   "outputs": [],
   "source": [
    "from sklearn.model_selection import train_test_split\n",
    "from sklearn.linear_model import LinearRegression\n",
    "\n",
    "x = data[['engine-size']]\n",
    "y = data['price']\n",
    "\n",
    "# Split the data into training and test sets\n",
    "x_train, x_test, y_train, y_test = train_test_split(x, y, test_size=0.2, random_state=4)\n",
    "\n",
    "# Apply least squares linear regression\n",
    "reg = LinearRegression().fit(x_train, y_train)\n",
    "y_predict = reg.predict(x)\n",
    "\n",
    "# Visualize the results\n",
    "plt.scatter(x['engine-size'], y, color='black')\n",
    "plt.plot(x, y_predict, color='blue')\n",
    "plt.xlabel(\"engine-size\")\n",
    "plt.ylabel(\"price\")\n",
    "plt.show()"
   ]
  },
  {
   "cell_type": "markdown",
   "metadata": {},
   "source": [
    "Inspect the model"
   ]
  },
  {
   "cell_type": "code",
   "execution_count": null,
   "metadata": {},
   "outputs": [],
   "source": [
    "print(\"Coefficient: {}\".format(reg.coef_))\n",
    "print(\"Intercept: {}\".format(reg.intercept_))\n",
    "\n",
    "print(reg.predict([[101]]) - reg.predict([[100]]))\n",
    "print(reg.predict([[0]]))"
   ]
  },
  {
   "cell_type": "markdown",
   "metadata": {},
   "source": [
    "Evaluate the model"
   ]
  },
  {
   "cell_type": "code",
   "execution_count": null,
   "metadata": {},
   "outputs": [],
   "source": [
    "# Root mean squared error\n",
    "from sklearn.metrics import mean_squared_error\n",
    "\n",
    "y_test_predict = reg.predict(x_test)\n",
    "rmse = mean_squared_error(y_test, y_test_predict, squared=False)\n",
    "print(\"RMSE: {}\".format(rmse))\n",
    "\n",
    "# Coefficient of determination\n",
    "rsquared = reg.score(x_test, y_test)\n",
    "print(\"Coefficient of determination: {}\".format(rsquared))"
   ]
  },
  {
   "cell_type": "markdown",
   "metadata": {},
   "source": [
    "**Add more features**\n",
    "\n",
    "1. Add curb-weight"
   ]
  },
  {
   "cell_type": "code",
   "execution_count": null,
   "metadata": {},
   "outputs": [],
   "source": [
    "x = data[['engine-size', 'curb-weight']]\n",
    "y = data['price']\n",
    "\n",
    "# Split the data into training and test sets\n",
    "x_train, x_test, y_train, y_test = train_test_split(x, y, test_size=0.2, random_state=4)\n",
    "\n",
    "# Apply least squares linear regression\n",
    "reg = LinearRegression().fit(x_train, y_train)\n",
    "print(\"Coefficient: {}\".format(reg.coef_))\n",
    "print(\"Intercept: {}\".format(reg.intercept_))\n",
    "\n",
    "y_test_predict = reg.predict(x_test)\n",
    "rmse = mean_squared_error(y_test, y_test_predict, squared=False)\n",
    "rsquared = reg.score(x_test, y_test)\n",
    "print(\"RMSE: {}\".format(rmse))\n",
    "print(\"Coefficient of determination: {}\".format(rsquared))"
   ]
  },
  {
   "cell_type": "markdown",
   "metadata": {},
   "source": [
    "2. Add whee-base, which results in worse performance"
   ]
  },
  {
   "cell_type": "code",
   "execution_count": null,
   "metadata": {},
   "outputs": [],
   "source": [
    "x = data[['engine-size', 'curb-weight', 'wheel-base']]\n",
    "y = data['price']\n",
    "\n",
    "# Split the data into training and test sets\n",
    "x_train, x_test, y_train, y_test = train_test_split(x, y, test_size=0.2, random_state=4)\n",
    "\n",
    "# Apply least squares linear regression\n",
    "reg = LinearRegression().fit(x_train, y_train)\n",
    "print(\"Coefficient: {}\".format(reg.coef_))\n",
    "print(\"Intercept: {}\".format(reg.intercept_))\n",
    "\n",
    "y_test_predict = reg.predict(x_test)\n",
    "rmse = mean_squared_error(y_test, y_test_predict, squared=False)\n",
    "rsquared = reg.score(x_test, y_test)\n",
    "print(\"RMSE: {}\".format(rmse))\n",
    "print(\"Coefficient of determination: {}\".format(rsquared))"
   ]
  },
  {
   "cell_type": "markdown",
   "metadata": {},
   "source": [
    "3. Find a good combination based on the correlation matrix"
   ]
  },
  {
   "cell_type": "code",
   "execution_count": null,
   "metadata": {},
   "outputs": [],
   "source": [
    "x = data[['engine-size', 'curb-weight', 'width', 'highway-mpg']]\n",
    "y = data['price']\n",
    "\n",
    "# Split the data into training and test sets\n",
    "x_train, x_test, y_train, y_test = train_test_split(x, y, test_size=0.2, random_state=4)\n",
    "\n",
    "# Apply least squares linear regression\n",
    "reg = LinearRegression().fit(x_train, y_train)\n",
    "print(\"Coefficient: {}\".format(reg.coef_))\n",
    "print(\"Intercept: {}\".format(reg.intercept_))\n",
    "\n",
    "y_test_predict = reg.predict(x_test)\n",
    "rmse = mean_squared_error(y_test, y_test_predict, squared=False)\n",
    "rsquared = reg.score(x_test, y_test)\n",
    "print(\"RMSE: {}\".format(rmse))\n",
    "print(\"Coefficient of determination: {}\".format(rsquared))"
   ]
  },
  {
   "cell_type": "code",
   "execution_count": null,
   "metadata": {},
   "outputs": [],
   "source": []
  }
 ],
 "metadata": {
  "kernelspec": {
   "display_name": "Python 3",
   "language": "python",
   "name": "python3"
  },
  "language_info": {
   "codemirror_mode": {
    "name": "ipython",
    "version": 3
   },
   "file_extension": ".py",
   "mimetype": "text/x-python",
   "name": "python",
   "nbconvert_exporter": "python",
   "pygments_lexer": "ipython3",
   "version": "3.8.3"
  }
 },
 "nbformat": 4,
 "nbformat_minor": 4
}
