{
 "cells": [
  {
   "cell_type": "code",
   "execution_count": 1,
   "metadata": {},
   "outputs": [],
   "source": [
    "import numpy as np\n",
    "import pandas as pd"
   ]
  },
  {
   "cell_type": "code",
   "execution_count": 2,
   "metadata": {},
   "outputs": [],
   "source": [
    "data = pd.read_csv(\"german_credit_data.csv\")"
   ]
  },
  {
   "cell_type": "code",
   "execution_count": 3,
   "metadata": {},
   "outputs": [
    {
     "data": {
      "text/html": [
       "<div>\n",
       "<style scoped>\n",
       "    .dataframe tbody tr th:only-of-type {\n",
       "        vertical-align: middle;\n",
       "    }\n",
       "\n",
       "    .dataframe tbody tr th {\n",
       "        vertical-align: top;\n",
       "    }\n",
       "\n",
       "    .dataframe thead th {\n",
       "        text-align: right;\n",
       "    }\n",
       "</style>\n",
       "<table border=\"1\" class=\"dataframe\">\n",
       "  <thead>\n",
       "    <tr style=\"text-align: right;\">\n",
       "      <th></th>\n",
       "      <th>Unnamed: 0</th>\n",
       "      <th>Age</th>\n",
       "      <th>Sex</th>\n",
       "      <th>Job</th>\n",
       "      <th>Housing</th>\n",
       "      <th>Saving accounts</th>\n",
       "      <th>Checking account</th>\n",
       "      <th>Credit amount</th>\n",
       "      <th>Duration</th>\n",
       "      <th>Purpose</th>\n",
       "      <th>Risk</th>\n",
       "    </tr>\n",
       "  </thead>\n",
       "  <tbody>\n",
       "    <tr>\n",
       "      <th>0</th>\n",
       "      <td>0</td>\n",
       "      <td>67</td>\n",
       "      <td>male</td>\n",
       "      <td>2</td>\n",
       "      <td>own</td>\n",
       "      <td>NaN</td>\n",
       "      <td>little</td>\n",
       "      <td>1169</td>\n",
       "      <td>6</td>\n",
       "      <td>radio/TV</td>\n",
       "      <td>good</td>\n",
       "    </tr>\n",
       "    <tr>\n",
       "      <th>1</th>\n",
       "      <td>1</td>\n",
       "      <td>22</td>\n",
       "      <td>female</td>\n",
       "      <td>2</td>\n",
       "      <td>own</td>\n",
       "      <td>little</td>\n",
       "      <td>moderate</td>\n",
       "      <td>5951</td>\n",
       "      <td>48</td>\n",
       "      <td>radio/TV</td>\n",
       "      <td>bad</td>\n",
       "    </tr>\n",
       "    <tr>\n",
       "      <th>2</th>\n",
       "      <td>2</td>\n",
       "      <td>49</td>\n",
       "      <td>male</td>\n",
       "      <td>1</td>\n",
       "      <td>own</td>\n",
       "      <td>little</td>\n",
       "      <td>NaN</td>\n",
       "      <td>2096</td>\n",
       "      <td>12</td>\n",
       "      <td>education</td>\n",
       "      <td>good</td>\n",
       "    </tr>\n",
       "    <tr>\n",
       "      <th>3</th>\n",
       "      <td>3</td>\n",
       "      <td>45</td>\n",
       "      <td>male</td>\n",
       "      <td>2</td>\n",
       "      <td>free</td>\n",
       "      <td>little</td>\n",
       "      <td>little</td>\n",
       "      <td>7882</td>\n",
       "      <td>42</td>\n",
       "      <td>furniture/equipment</td>\n",
       "      <td>good</td>\n",
       "    </tr>\n",
       "    <tr>\n",
       "      <th>4</th>\n",
       "      <td>4</td>\n",
       "      <td>53</td>\n",
       "      <td>male</td>\n",
       "      <td>2</td>\n",
       "      <td>free</td>\n",
       "      <td>little</td>\n",
       "      <td>little</td>\n",
       "      <td>4870</td>\n",
       "      <td>24</td>\n",
       "      <td>car</td>\n",
       "      <td>bad</td>\n",
       "    </tr>\n",
       "  </tbody>\n",
       "</table>\n",
       "</div>"
      ],
      "text/plain": [
       "   Unnamed: 0  Age     Sex  Job Housing Saving accounts Checking account  \\\n",
       "0           0   67    male    2     own             NaN           little   \n",
       "1           1   22  female    2     own          little         moderate   \n",
       "2           2   49    male    1     own          little              NaN   \n",
       "3           3   45    male    2    free          little           little   \n",
       "4           4   53    male    2    free          little           little   \n",
       "\n",
       "   Credit amount  Duration              Purpose  Risk  \n",
       "0           1169         6             radio/TV  good  \n",
       "1           5951        48             radio/TV   bad  \n",
       "2           2096        12            education  good  \n",
       "3           7882        42  furniture/equipment  good  \n",
       "4           4870        24                  car   bad  "
      ]
     },
     "execution_count": 3,
     "metadata": {},
     "output_type": "execute_result"
    }
   ],
   "source": [
    "data.head()"
   ]
  },
  {
   "cell_type": "code",
   "execution_count": 4,
   "metadata": {},
   "outputs": [
    {
     "data": {
      "text/plain": [
       "Text(0, 0.5, 'Count')"
      ]
     },
     "execution_count": 4,
     "metadata": {},
     "output_type": "execute_result"
    },
    {
     "data": {
      "image/png": "[encoded data removed]",
      "text/plain": [
       "<Figure size 432x288 with 1 Axes>"
      ]
     },
     "metadata": {
      "needs_background": "light"
     },
     "output_type": "display_data"
    }
   ],
   "source": [
    "import matplotlib.pyplot as plt\n",
    "data['Risk'].hist()\n",
    "plt.xlabel('Risk')\n",
    "plt.ylabel('Count')"
   ]
  },
  {
   "cell_type": "code",
   "execution_count": 5,
   "metadata": {},
   "outputs": [],
   "source": [
    "attributes = ['Age',\n",
    "             'Job',\n",
    "             'Credit amount',\n",
    "             'Duration']\n",
    "\n",
    "x = data[attributes]\n",
    "\n",
    "y = (data['Risk'] == 'good')"
   ]
  },
  {
   "cell_type": "code",
   "execution_count": 6,
   "metadata": {},
   "outputs": [
    {
     "data": {
      "text/plain": [
       "0       True\n",
       "1      False\n",
       "2       True\n",
       "3       True\n",
       "4      False\n",
       "       ...  \n",
       "995     True\n",
       "996     True\n",
       "997     True\n",
       "998    False\n",
       "999     True\n",
       "Name: Risk, Length: 1000, dtype: bool"
      ]
     },
     "execution_count": 6,
     "metadata": {},
     "output_type": "execute_result"
    }
   ],
   "source": [
    "y"
   ]
  },
  {
   "cell_type": "code",
   "execution_count": 7,
   "metadata": {},
   "outputs": [
    {
     "data": {
      "text/plain": [
       "LogisticRegression()"
      ]
     },
     "execution_count": 7,
     "metadata": {},
     "output_type": "execute_result"
    }
   ],
   "source": [
    "from sklearn.naive_bayes import GaussianNB\n",
    "clf_gnb = GaussianNB()\n",
    "clf_gnb.fit(x,y)\n",
    "\n",
    "from sklearn.tree import DecisionTreeClassifier\n",
    "clf_tree = DecisionTreeClassifier()\n",
    "clf_tree.fit(x,y)\n",
    "\n",
    "from sklearn.neighbors import KNeighborsClassifier\n",
    "clf_neighbors = KNeighborsClassifier()\n",
    "clf_neighbors.fit(x,y)\n",
    "\n",
    "from sklearn.linear_model import LogisticRegression\n",
    "clf_lg = LogisticRegression()\n",
    "clf_lg.fit(x,y)"
   ]
  },
  {
   "cell_type": "code",
   "execution_count": 8,
   "metadata": {},
   "outputs": [
    {
     "name": "stdout",
     "output_type": "stream",
     "text": [
      "0.71\n",
      "1.0\n",
      "0.745\n",
      "0.712\n"
     ]
    }
   ],
   "source": [
    "from sklearn import metrics\n",
    "#Naive Bayes\n",
    "print(metrics.accuracy_score(y, clf_gnb.predict(x)))\n",
    "#Decision Tree\n",
    "print(metrics.accuracy_score(y, clf_tree.predict(x)))\n",
    "#KNeighbours\n",
    "print(metrics.accuracy_score(y, clf_neighbors.predict(x)))\n",
    "#Logistic Regression\n",
    "print(metrics.accuracy_score(y, clf_lg.predict(x)))\n"
   ]
  },
  {
   "cell_type": "code",
   "execution_count": 9,
   "metadata": {},
   "outputs": [
    {
     "name": "stdout",
     "output_type": "stream",
     "text": [
      "[0.70958084 0.6996997  0.6996997 ]\n",
      "[0.5988024  0.61261261 0.64264264]\n",
      "[0.62874251 0.64864865 0.65165165]\n",
      "[0.70658683 0.6966967  0.70870871]\n"
     ]
    }
   ],
   "source": [
    "from sklearn.model_selection import cross_val_score\n",
    "#Naive Bayes\n",
    "print(cross_val_score(clf_gnb, x,y, cv = 3, scoring = \"accuracy\"))\n",
    "\n",
    "#Decision Tree\n",
    "print(cross_val_score(clf_tree, x,y, cv = 3, scoring = \"accuracy\"))\n",
    "\n",
    "#KNeighbours\n",
    "print(cross_val_score(clf_neighbors, x,y, cv = 3, scoring = \"accuracy\"))\n",
    "\n",
    "#Logistic Regression\n",
    "print(cross_val_score(clf_lg, x,y, cv = 3, scoring = \"accuracy\"))\n"
   ]
  },
  {
   "cell_type": "code",
   "execution_count": 10,
   "metadata": {},
   "outputs": [],
   "source": [
    "from sklearn.model_selection import cross_val_predict\n",
    "\n",
    "clf_gnb_pred = cross_val_predict(clf_gnb, x, y ,cv = 3)\n",
    "clf_tree_pred = cross_val_predict(clf_tree, x, y ,cv = 3)\n",
    "clf_neighbors_pred = cross_val_predict(clf_neighbors, x, y ,cv = 3)\n",
    "clf_lg_pred = cross_val_predict(clf_lg, x, y ,cv = 3)\n"
   ]
  },
  {
   "cell_type": "code",
   "execution_count": 11,
   "metadata": {},
   "outputs": [
    {
     "name": "stdout",
     "output_type": "stream",
     "text": [
      "[[ 74 226]\n",
      " [ 71 629]]\n",
      "[[125 175]\n",
      " [205 495]]\n",
      "[[ 57 243]\n",
      " [114 586]]\n",
      "[[ 33 267]\n",
      " [ 29 671]]\n"
     ]
    }
   ],
   "source": [
    "from sklearn.metrics import confusion_matrix\n",
    "#Naive Bayes\n",
    "print(confusion_matrix(y, clf_gnb_pred))\n",
    "\n",
    "#Decision Tree\n",
    "print(confusion_matrix(y, clf_tree_pred))\n",
    "\n",
    "#KNN\n",
    "print(confusion_matrix(y, clf_neighbors_pred))\n",
    "\n",
    "#Logistic Regression\n",
    "print(confusion_matrix(y, clf_lg_pred))\n",
    "\n",
    "\n"
   ]
  },
  {
   "cell_type": "markdown",
   "metadata": {},
   "source": [
    "#### Precision Score = TP/(TP + FP)\n",
    "\n",
    "#### Recall Score  = TP/(TP + FN)\n",
    "\n",
    "#### F1 Score = Harmonic Mean of Precision and Recall\n",
    "\n"
   ]
  },
  {
   "cell_type": "code",
   "execution_count": 12,
   "metadata": {},
   "outputs": [
    {
     "name": "stdout",
     "output_type": "stream",
     "text": [
      "Precision Score: 0.735672514619883\n",
      "Recall Score:  0.8985714285714286\n",
      "F1 Score: 0.8090032154340836\n",
      "Precision Score: 0.7388059701492538\n",
      "Recall Score:  0.7071428571428572\n",
      "F1 Score: 0.7226277372262775\n",
      "Precision Score: 0.706875753920386\n",
      "Recall Score:  0.8371428571428572\n",
      "F1 Score: 0.7665140614780903\n",
      "Precision Score: 0.7153518123667377\n",
      "Recall Score:  0.9585714285714285\n",
      "F1 Score: 0.8192918192918193\n"
     ]
    }
   ],
   "source": [
    "from sklearn.metrics import precision_score, recall_score, f1_score\n",
    "\n",
    "#Naive Bayes\n",
    "print(\"Precision Score:\", precision_score(y, clf_gnb_pred))\n",
    "print(\"Recall Score: \", recall_score(y, clf_gnb_pred))\n",
    "print(\"F1 Score:\", f1_score(y, clf_gnb_pred))\n",
    "\n",
    "#Decision Tree\n",
    "print(\"Precision Score:\", precision_score(y, clf_tree_pred))\n",
    "print(\"Recall Score: \", recall_score(y, clf_tree_pred))\n",
    "print(\"F1 Score:\", f1_score(y, clf_tree_pred))\n",
    "\n",
    "#KNeighbors\n",
    "print(\"Precision Score:\", precision_score(y, clf_neighbors_pred))\n",
    "print(\"Recall Score: \", recall_score(y, clf_neighbors_pred))\n",
    "print(\"F1 Score:\", f1_score(y, clf_neighbors_pred))\n",
    "\n",
    "#Logistic Regression\n",
    "print(\"Precision Score:\", precision_score(y, clf_lg_pred))\n",
    "print(\"Recall Score: \", recall_score(y, clf_lg_pred))\n",
    "print(\"F1 Score:\", f1_score(y, clf_lg_pred))"
   ]
  },
  {
   "cell_type": "code",
   "execution_count": 13,
   "metadata": {},
   "outputs": [],
   "source": [
    "#Naive Bayes\n",
    "y_gnb_score = cross_val_predict(clf_gnb, x, y ,cv = 3, method = \"predict_proba\")\n",
    "\n",
    "#Decision Tree\n",
    "y_tree_score = cross_val_predict(clf_tree, x, y ,cv = 3, method = \"predict_proba\")"
   ]
  },
  {
   "cell_type": "code",
   "execution_count": 14,
   "metadata": {},
   "outputs": [
    {
     "name": "stdout",
     "output_type": "stream",
     "text": [
      "0.6200809523809524\n",
      "0.5626190476190476\n"
     ]
    }
   ],
   "source": [
    "from sklearn.metrics import roc_auc_score\n",
    "#Naive Bayes\n",
    "print(roc_auc_score(y, y_gnb_score[:,1]))\n",
    "\n",
    "#Tree\n",
    "print(roc_auc_score(y, y_tree_score[:,1]))\n"
   ]
  },
  {
   "cell_type": "code",
   "execution_count": 15,
   "metadata": {},
   "outputs": [],
   "source": [
    "numeric_data = ['Age', 'Job', 'Credit amount', 'Duration']\n"
   ]
  },
  {
   "cell_type": "code",
   "execution_count": 16,
   "metadata": {},
   "outputs": [
    {
     "data": {
      "text/plain": [
       "array([[<matplotlib.axes._subplots.AxesSubplot object at 0x000002310C45BE80>,\n",
       "        <matplotlib.axes._subplots.AxesSubplot object at 0x000002310C4898B0>],\n",
       "       [<matplotlib.axes._subplots.AxesSubplot object at 0x000002310C4B5D30>,\n",
       "        <matplotlib.axes._subplots.AxesSubplot object at 0x000002310C4EA1F0>]],\n",
       "      dtype=object)"
      ]
     },
     "execution_count": 16,
     "metadata": {},
     "output_type": "execute_result"
    },
    {
     "data": {
      "image/png": "[encoded data removed]",
      "text/plain": [
       "<Figure size 432x288 with 4 Axes>"
      ]
     },
     "metadata": {
      "needs_background": "light"
     },
     "output_type": "display_data"
    }
   ],
   "source": [
    "data[numeric_data].hist()"
   ]
  },
  {
   "cell_type": "code",
   "execution_count": 17,
   "metadata": {},
   "outputs": [
    {
     "data": {
      "text/plain": [
       "<matplotlib.axes._subplots.AxesSubplot at 0x2310c857520>"
      ]
     },
     "execution_count": 17,
     "metadata": {},
     "output_type": "execute_result"
    },
    {
     "data": {
      "image/png": "[encoded data removed]",
      "text/plain": [
       "<Figure size 432x288 with 1 Axes>"
      ]
     },
     "metadata": {
      "needs_background": "light"
     },
     "output_type": "display_data"
    }
   ],
   "source": [
    "import seaborn as sns\n",
    "sns.countplot(data['Sex'])"
   ]
  },
  {
   "cell_type": "code",
   "execution_count": 22,
   "metadata": {},
   "outputs": [
    {
     "data": {
      "text/plain": [
       "<matplotlib.axes._subplots.AxesSubplot at 0x2310ca10220>"
      ]
     },
     "execution_count": 22,
     "metadata": {},
     "output_type": "execute_result"
    },
    {
     "data": {
      "image/png": "[encoded data removed]",
      "text/plain": [
       "<Figure size 432x288 with 1 Axes>"
      ]
     },
     "metadata": {
      "needs_background": "light"
     },
     "output_type": "display_data"
    }
   ],
   "source": [
    "sns.boxplot(x=\"Job\", y=\"Duration\", hue=\"Risk\", data=data)"
   ]
  },
  {
   "cell_type": "code",
   "execution_count": 23,
   "metadata": {},
   "outputs": [
    {
     "data": {
      "text/html": [
       "<div>\n",
       "<style scoped>\n",
       "    .dataframe tbody tr th:only-of-type {\n",
       "        vertical-align: middle;\n",
       "    }\n",
       "\n",
       "    .dataframe tbody tr th {\n",
       "        vertical-align: top;\n",
       "    }\n",
       "\n",
       "    .dataframe thead th {\n",
       "        text-align: right;\n",
       "    }\n",
       "</style>\n",
       "<table border=\"1\" class=\"dataframe\">\n",
       "  <thead>\n",
       "    <tr style=\"text-align: right;\">\n",
       "      <th></th>\n",
       "      <th>Unnamed: 0</th>\n",
       "      <th>Age</th>\n",
       "      <th>Sex</th>\n",
       "      <th>Job</th>\n",
       "      <th>Housing</th>\n",
       "      <th>Saving accounts</th>\n",
       "      <th>Checking account</th>\n",
       "      <th>Credit amount</th>\n",
       "      <th>Duration</th>\n",
       "      <th>Purpose</th>\n",
       "      <th>Risk</th>\n",
       "    </tr>\n",
       "  </thead>\n",
       "  <tbody>\n",
       "    <tr>\n",
       "      <th>0</th>\n",
       "      <td>0</td>\n",
       "      <td>67</td>\n",
       "      <td>male</td>\n",
       "      <td>2</td>\n",
       "      <td>own</td>\n",
       "      <td>NaN</td>\n",
       "      <td>little</td>\n",
       "      <td>1169</td>\n",
       "      <td>6</td>\n",
       "      <td>radio/TV</td>\n",
       "      <td>good</td>\n",
       "    </tr>\n",
       "    <tr>\n",
       "      <th>1</th>\n",
       "      <td>1</td>\n",
       "      <td>22</td>\n",
       "      <td>female</td>\n",
       "      <td>2</td>\n",
       "      <td>own</td>\n",
       "      <td>little</td>\n",
       "      <td>moderate</td>\n",
       "      <td>5951</td>\n",
       "      <td>48</td>\n",
       "      <td>radio/TV</td>\n",
       "      <td>bad</td>\n",
       "    </tr>\n",
       "    <tr>\n",
       "      <th>2</th>\n",
       "      <td>2</td>\n",
       "      <td>49</td>\n",
       "      <td>male</td>\n",
       "      <td>1</td>\n",
       "      <td>own</td>\n",
       "      <td>little</td>\n",
       "      <td>NaN</td>\n",
       "      <td>2096</td>\n",
       "      <td>12</td>\n",
       "      <td>education</td>\n",
       "      <td>good</td>\n",
       "    </tr>\n",
       "    <tr>\n",
       "      <th>3</th>\n",
       "      <td>3</td>\n",
       "      <td>45</td>\n",
       "      <td>male</td>\n",
       "      <td>2</td>\n",
       "      <td>free</td>\n",
       "      <td>little</td>\n",
       "      <td>little</td>\n",
       "      <td>7882</td>\n",
       "      <td>42</td>\n",
       "      <td>furniture/equipment</td>\n",
       "      <td>good</td>\n",
       "    </tr>\n",
       "    <tr>\n",
       "      <th>4</th>\n",
       "      <td>4</td>\n",
       "      <td>53</td>\n",
       "      <td>male</td>\n",
       "      <td>2</td>\n",
       "      <td>free</td>\n",
       "      <td>little</td>\n",
       "      <td>little</td>\n",
       "      <td>4870</td>\n",
       "      <td>24</td>\n",
       "      <td>car</td>\n",
       "      <td>bad</td>\n",
       "    </tr>\n",
       "  </tbody>\n",
       "</table>\n",
       "</div>"
      ],
      "text/plain": [
       "   Unnamed: 0  Age     Sex  Job Housing Saving accounts Checking account  \\\n",
       "0           0   67    male    2     own             NaN           little   \n",
       "1           1   22  female    2     own          little         moderate   \n",
       "2           2   49    male    1     own          little              NaN   \n",
       "3           3   45    male    2    free          little           little   \n",
       "4           4   53    male    2    free          little           little   \n",
       "\n",
       "   Credit amount  Duration              Purpose  Risk  \n",
       "0           1169         6             radio/TV  good  \n",
       "1           5951        48             radio/TV   bad  \n",
       "2           2096        12            education  good  \n",
       "3           7882        42  furniture/equipment  good  \n",
       "4           4870        24                  car   bad  "
      ]
     },
     "execution_count": 23,
     "metadata": {},
     "output_type": "execute_result"
    }
   ],
   "source": [
    "data.head()"
   ]
  },
  {
   "cell_type": "code",
   "execution_count": 27,
   "metadata": {},
   "outputs": [
    {
     "data": {
      "text/plain": [
       "Unnamed: 0          False\n",
       "Age                 False\n",
       "Sex                 False\n",
       "Job                 False\n",
       "Housing             False\n",
       "Saving accounts      True\n",
       "Checking account     True\n",
       "Credit amount       False\n",
       "Duration            False\n",
       "Purpose             False\n",
       "Risk                False\n",
       "dtype: bool"
      ]
     },
     "execution_count": 27,
     "metadata": {},
     "output_type": "execute_result"
    }
   ],
   "source": [
    "data.isna().any()"
   ]
  },
  {
   "cell_type": "code",
   "execution_count": 28,
   "metadata": {},
   "outputs": [
    {
     "name": "stdout",
     "output_type": "stream",
     "text": [
      "<class 'pandas.core.frame.DataFrame'>\n",
      "RangeIndex: 1000 entries, 0 to 999\n",
      "Data columns (total 11 columns):\n",
      " #   Column            Non-Null Count  Dtype \n",
      "---  ------            --------------  ----- \n",
      " 0   Unnamed: 0        1000 non-null   int64 \n",
      " 1   Age               1000 non-null   int64 \n",
      " 2   Sex               1000 non-null   object\n",
      " 3   Job               1000 non-null   int64 \n",
      " 4   Housing           1000 non-null   object\n",
      " 5   Saving accounts   817 non-null    object\n",
      " 6   Checking account  606 non-null    object\n",
      " 7   Credit amount     1000 non-null   int64 \n",
      " 8   Duration          1000 non-null   int64 \n",
      " 9   Purpose           1000 non-null   object\n",
      " 10  Risk              1000 non-null   object\n",
      "dtypes: int64(5), object(6)\n",
      "memory usage: 86.1+ KB\n"
     ]
    }
   ],
   "source": [
    "data.info()"
   ]
  },
  {
   "cell_type": "code",
   "execution_count": 29,
   "metadata": {},
   "outputs": [
    {
     "data": {
      "text/html": [
       "<div>\n",
       "<style scoped>\n",
       "    .dataframe tbody tr th:only-of-type {\n",
       "        vertical-align: middle;\n",
       "    }\n",
       "\n",
       "    .dataframe tbody tr th {\n",
       "        vertical-align: top;\n",
       "    }\n",
       "\n",
       "    .dataframe thead th {\n",
       "        text-align: right;\n",
       "    }\n",
       "</style>\n",
       "<table border=\"1\" class=\"dataframe\">\n",
       "  <thead>\n",
       "    <tr style=\"text-align: right;\">\n",
       "      <th></th>\n",
       "      <th>Unnamed: 0</th>\n",
       "      <th>Age</th>\n",
       "      <th>Job</th>\n",
       "      <th>Credit amount</th>\n",
       "      <th>Duration</th>\n",
       "      <th>Sex_female</th>\n",
       "      <th>Sex_male</th>\n",
       "      <th>Housing_free</th>\n",
       "      <th>Housing_own</th>\n",
       "      <th>Housing_rent</th>\n",
       "      <th>...</th>\n",
       "      <th>Purpose_business</th>\n",
       "      <th>Purpose_car</th>\n",
       "      <th>Purpose_domestic appliances</th>\n",
       "      <th>Purpose_education</th>\n",
       "      <th>Purpose_furniture/equipment</th>\n",
       "      <th>Purpose_radio/TV</th>\n",
       "      <th>Purpose_repairs</th>\n",
       "      <th>Purpose_vacation/others</th>\n",
       "      <th>Risk_bad</th>\n",
       "      <th>Risk_good</th>\n",
       "    </tr>\n",
       "  </thead>\n",
       "  <tbody>\n",
       "    <tr>\n",
       "      <th>0</th>\n",
       "      <td>0</td>\n",
       "      <td>67</td>\n",
       "      <td>2</td>\n",
       "      <td>1169</td>\n",
       "      <td>6</td>\n",
       "      <td>0</td>\n",
       "      <td>1</td>\n",
       "      <td>0</td>\n",
       "      <td>1</td>\n",
       "      <td>0</td>\n",
       "      <td>...</td>\n",
       "      <td>0</td>\n",
       "      <td>0</td>\n",
       "      <td>0</td>\n",
       "      <td>0</td>\n",
       "      <td>0</td>\n",
       "      <td>1</td>\n",
       "      <td>0</td>\n",
       "      <td>0</td>\n",
       "      <td>0</td>\n",
       "      <td>1</td>\n",
       "    </tr>\n",
       "    <tr>\n",
       "      <th>1</th>\n",
       "      <td>1</td>\n",
       "      <td>22</td>\n",
       "      <td>2</td>\n",
       "      <td>5951</td>\n",
       "      <td>48</td>\n",
       "      <td>1</td>\n",
       "      <td>0</td>\n",
       "      <td>0</td>\n",
       "      <td>1</td>\n",
       "      <td>0</td>\n",
       "      <td>...</td>\n",
       "      <td>0</td>\n",
       "      <td>0</td>\n",
       "      <td>0</td>\n",
       "      <td>0</td>\n",
       "      <td>0</td>\n",
       "      <td>1</td>\n",
       "      <td>0</td>\n",
       "      <td>0</td>\n",
       "      <td>1</td>\n",
       "      <td>0</td>\n",
       "    </tr>\n",
       "    <tr>\n",
       "      <th>2</th>\n",
       "      <td>2</td>\n",
       "      <td>49</td>\n",
       "      <td>1</td>\n",
       "      <td>2096</td>\n",
       "      <td>12</td>\n",
       "      <td>0</td>\n",
       "      <td>1</td>\n",
       "      <td>0</td>\n",
       "      <td>1</td>\n",
       "      <td>0</td>\n",
       "      <td>...</td>\n",
       "      <td>0</td>\n",
       "      <td>0</td>\n",
       "      <td>0</td>\n",
       "      <td>1</td>\n",
       "      <td>0</td>\n",
       "      <td>0</td>\n",
       "      <td>0</td>\n",
       "      <td>0</td>\n",
       "      <td>0</td>\n",
       "      <td>1</td>\n",
       "    </tr>\n",
       "    <tr>\n",
       "      <th>3</th>\n",
       "      <td>3</td>\n",
       "      <td>45</td>\n",
       "      <td>2</td>\n",
       "      <td>7882</td>\n",
       "      <td>42</td>\n",
       "      <td>0</td>\n",
       "      <td>1</td>\n",
       "      <td>1</td>\n",
       "      <td>0</td>\n",
       "      <td>0</td>\n",
       "      <td>...</td>\n",
       "      <td>0</td>\n",
       "      <td>0</td>\n",
       "      <td>0</td>\n",
       "      <td>0</td>\n",
       "      <td>1</td>\n",
       "      <td>0</td>\n",
       "      <td>0</td>\n",
       "      <td>0</td>\n",
       "      <td>0</td>\n",
       "      <td>1</td>\n",
       "    </tr>\n",
       "    <tr>\n",
       "      <th>4</th>\n",
       "      <td>4</td>\n",
       "      <td>53</td>\n",
       "      <td>2</td>\n",
       "      <td>4870</td>\n",
       "      <td>24</td>\n",
       "      <td>0</td>\n",
       "      <td>1</td>\n",
       "      <td>1</td>\n",
       "      <td>0</td>\n",
       "      <td>0</td>\n",
       "      <td>...</td>\n",
       "      <td>0</td>\n",
       "      <td>1</td>\n",
       "      <td>0</td>\n",
       "      <td>0</td>\n",
       "      <td>0</td>\n",
       "      <td>0</td>\n",
       "      <td>0</td>\n",
       "      <td>0</td>\n",
       "      <td>1</td>\n",
       "      <td>0</td>\n",
       "    </tr>\n",
       "  </tbody>\n",
       "</table>\n",
       "<p>5 rows × 27 columns</p>\n",
       "</div>"
      ],
      "text/plain": [
       "   Unnamed: 0  Age  Job  Credit amount  Duration  Sex_female  Sex_male  \\\n",
       "0           0   67    2           1169         6           0         1   \n",
       "1           1   22    2           5951        48           1         0   \n",
       "2           2   49    1           2096        12           0         1   \n",
       "3           3   45    2           7882        42           0         1   \n",
       "4           4   53    2           4870        24           0         1   \n",
       "\n",
       "   Housing_free  Housing_own  Housing_rent  ...  Purpose_business  \\\n",
       "0             0            1             0  ...                 0   \n",
       "1             0            1             0  ...                 0   \n",
       "2             0            1             0  ...                 0   \n",
       "3             1            0             0  ...                 0   \n",
       "4             1            0             0  ...                 0   \n",
       "\n",
       "   Purpose_car  Purpose_domestic appliances  Purpose_education  \\\n",
       "0            0                            0                  0   \n",
       "1            0                            0                  0   \n",
       "2            0                            0                  1   \n",
       "3            0                            0                  0   \n",
       "4            1                            0                  0   \n",
       "\n",
       "   Purpose_furniture/equipment  Purpose_radio/TV  Purpose_repairs  \\\n",
       "0                            0                 1                0   \n",
       "1                            0                 1                0   \n",
       "2                            0                 0                0   \n",
       "3                            1                 0                0   \n",
       "4                            0                 0                0   \n",
       "\n",
       "   Purpose_vacation/others  Risk_bad  Risk_good  \n",
       "0                        0         0          1  \n",
       "1                        0         1          0  \n",
       "2                        0         0          1  \n",
       "3                        0         0          1  \n",
       "4                        0         1          0  \n",
       "\n",
       "[5 rows x 27 columns]"
      ]
     },
     "execution_count": 29,
     "metadata": {},
     "output_type": "execute_result"
    }
   ],
   "source": [
    "data_encoded = pd.get_dummies(data)\n",
    "data_encoded.head()"
   ]
  },
  {
   "cell_type": "code",
   "execution_count": 30,
   "metadata": {},
   "outputs": [],
   "source": [
    "data_mod = data_encoded.loc[:, data_encoded.columns != 'Risk_bad']\n"
   ]
  },
  {
   "cell_type": "code",
   "execution_count": 32,
   "metadata": {},
   "outputs": [
    {
     "data": {
      "text/plain": [
       "Risk_good                      1.000000\n",
       "Housing_own                    0.134589\n",
       "Purpose_radio/TV               0.106922\n",
       "Age                            0.091127\n",
       "Saving accounts_rich           0.085749\n",
       "Sex_male                       0.075493\n",
       "Saving accounts_quite rich     0.070954\n",
       "Checking account_rich          0.044009\n",
       "Purpose_domestic appliances   -0.008016\n",
       "Purpose_repairs               -0.020828\n",
       "Purpose_furniture/equipment   -0.020971\n",
       "Saving accounts_moderate      -0.022255\n",
       "Purpose_car                   -0.022621\n",
       "Purpose_vacation/others       -0.028058\n",
       "Job                           -0.032735\n",
       "Unnamed: 0                    -0.034606\n",
       "Purpose_business              -0.036129\n",
       "Purpose_education             -0.049085\n",
       "Sex_female                    -0.075493\n",
       "Housing_free                  -0.081556\n",
       "Housing_rent                  -0.092785\n",
       "Checking account_moderate     -0.119581\n",
       "Credit amount                 -0.154739\n",
       "Saving accounts_little        -0.161007\n",
       "Duration                      -0.214927\n",
       "Checking account_little       -0.258333\n",
       "Name: Risk_good, dtype: float64"
      ]
     },
     "execution_count": 32,
     "metadata": {},
     "output_type": "execute_result"
    }
   ],
   "source": [
    "mat_values = corr_matrix[\"Risk_good\"].sort_values(ascending=False)\n",
    "mat_values"
   ]
  },
  {
   "cell_type": "code",
   "execution_count": 33,
   "metadata": {},
   "outputs": [
    {
     "data": {
      "text/plain": [
       "Credit amount                0.154739\n",
       "Duration                     0.214927\n",
       "Housing_own                  0.134589\n",
       "Saving accounts_little       0.161007\n",
       "Checking account_little      0.258333\n",
       "Checking account_moderate    0.119581\n",
       "Purpose_radio/TV             0.106922\n",
       "Risk_good                    1.000000\n",
       "Name: Risk_good, dtype: float64"
      ]
     },
     "execution_count": 33,
     "metadata": {},
     "output_type": "execute_result"
    }
   ],
   "source": [
    "cor_target = abs(corr_matrix[\"Risk_good\"])\n",
    "relevant_features = cor_target[cor_target>0.1]\n",
    "relevant_features"
   ]
  },
  {
   "cell_type": "code",
   "execution_count": 45,
   "metadata": {},
   "outputs": [],
   "source": [
    "attributes_new = ['Credit amount', 'Duration', 'Housing_own','Saving accounts_little', 'Checking account_little', 'Checking account_moderate', 'Purpose_radio/TV']\n",
    "x_new = data_mod[attributes_new]\n",
    "y_new = data_mod['Risk_good']"
   ]
  },
  {
   "cell_type": "code",
   "execution_count": 46,
   "metadata": {},
   "outputs": [],
   "source": [
    "from sklearn.preprocessing import StandardScaler\n",
    "scaler = StandardScaler()\n",
    "scaler.fit(x_new)\n",
    "x_scaled = scaler.transform(x_new)"
   ]
  },
  {
   "cell_type": "code",
   "execution_count": 48,
   "metadata": {},
   "outputs": [
    {
     "data": {
      "text/html": [
       "<div>\n",
       "<style scoped>\n",
       "    .dataframe tbody tr th:only-of-type {\n",
       "        vertical-align: middle;\n",
       "    }\n",
       "\n",
       "    .dataframe tbody tr th {\n",
       "        vertical-align: top;\n",
       "    }\n",
       "\n",
       "    .dataframe thead th {\n",
       "        text-align: right;\n",
       "    }\n",
       "</style>\n",
       "<table border=\"1\" class=\"dataframe\">\n",
       "  <thead>\n",
       "    <tr style=\"text-align: right;\">\n",
       "      <th></th>\n",
       "      <th>Credit amount</th>\n",
       "      <th>Duration</th>\n",
       "      <th>Housing_own</th>\n",
       "      <th>Saving accounts_little</th>\n",
       "      <th>Checking account_little</th>\n",
       "      <th>Checking account_moderate</th>\n",
       "      <th>Purpose_radio/TV</th>\n",
       "    </tr>\n",
       "  </thead>\n",
       "  <tbody>\n",
       "    <tr>\n",
       "      <th>0</th>\n",
       "      <td>-0.745131</td>\n",
       "      <td>-1.236478</td>\n",
       "      <td>0.634448</td>\n",
       "      <td>-1.232433</td>\n",
       "      <td>1.627770</td>\n",
       "      <td>-0.606621</td>\n",
       "      <td>1.603567</td>\n",
       "    </tr>\n",
       "    <tr>\n",
       "      <th>1</th>\n",
       "      <td>0.949817</td>\n",
       "      <td>2.248194</td>\n",
       "      <td>0.634448</td>\n",
       "      <td>0.811403</td>\n",
       "      <td>-0.614337</td>\n",
       "      <td>1.648476</td>\n",
       "      <td>1.603567</td>\n",
       "    </tr>\n",
       "    <tr>\n",
       "      <th>2</th>\n",
       "      <td>-0.416562</td>\n",
       "      <td>-0.738668</td>\n",
       "      <td>0.634448</td>\n",
       "      <td>0.811403</td>\n",
       "      <td>-0.614337</td>\n",
       "      <td>-0.606621</td>\n",
       "      <td>-0.623610</td>\n",
       "    </tr>\n",
       "    <tr>\n",
       "      <th>3</th>\n",
       "      <td>1.634247</td>\n",
       "      <td>1.750384</td>\n",
       "      <td>-1.576173</td>\n",
       "      <td>0.811403</td>\n",
       "      <td>1.627770</td>\n",
       "      <td>-0.606621</td>\n",
       "      <td>-0.623610</td>\n",
       "    </tr>\n",
       "    <tr>\n",
       "      <th>4</th>\n",
       "      <td>0.566664</td>\n",
       "      <td>0.256953</td>\n",
       "      <td>-1.576173</td>\n",
       "      <td>0.811403</td>\n",
       "      <td>1.627770</td>\n",
       "      <td>-0.606621</td>\n",
       "      <td>-0.623610</td>\n",
       "    </tr>\n",
       "    <tr>\n",
       "      <th>...</th>\n",
       "      <td>...</td>\n",
       "      <td>...</td>\n",
       "      <td>...</td>\n",
       "      <td>...</td>\n",
       "      <td>...</td>\n",
       "      <td>...</td>\n",
       "      <td>...</td>\n",
       "    </tr>\n",
       "    <tr>\n",
       "      <th>995</th>\n",
       "      <td>-0.544162</td>\n",
       "      <td>-0.738668</td>\n",
       "      <td>0.634448</td>\n",
       "      <td>0.811403</td>\n",
       "      <td>-0.614337</td>\n",
       "      <td>-0.606621</td>\n",
       "      <td>-0.623610</td>\n",
       "    </tr>\n",
       "    <tr>\n",
       "      <th>996</th>\n",
       "      <td>0.207612</td>\n",
       "      <td>0.754763</td>\n",
       "      <td>0.634448</td>\n",
       "      <td>0.811403</td>\n",
       "      <td>1.627770</td>\n",
       "      <td>-0.606621</td>\n",
       "      <td>-0.623610</td>\n",
       "    </tr>\n",
       "    <tr>\n",
       "      <th>997</th>\n",
       "      <td>-0.874503</td>\n",
       "      <td>-0.738668</td>\n",
       "      <td>0.634448</td>\n",
       "      <td>0.811403</td>\n",
       "      <td>-0.614337</td>\n",
       "      <td>-0.606621</td>\n",
       "      <td>1.603567</td>\n",
       "    </tr>\n",
       "    <tr>\n",
       "      <th>998</th>\n",
       "      <td>-0.505528</td>\n",
       "      <td>1.999289</td>\n",
       "      <td>-1.576173</td>\n",
       "      <td>0.811403</td>\n",
       "      <td>1.627770</td>\n",
       "      <td>-0.606621</td>\n",
       "      <td>1.603567</td>\n",
       "    </tr>\n",
       "    <tr>\n",
       "      <th>999</th>\n",
       "      <td>0.462457</td>\n",
       "      <td>1.999289</td>\n",
       "      <td>0.634448</td>\n",
       "      <td>-1.232433</td>\n",
       "      <td>-0.614337</td>\n",
       "      <td>1.648476</td>\n",
       "      <td>-0.623610</td>\n",
       "    </tr>\n",
       "  </tbody>\n",
       "</table>\n",
       "<p>1000 rows × 7 columns</p>\n",
       "</div>"
      ],
      "text/plain": [
       "     Credit amount  Duration  Housing_own  Saving accounts_little  \\\n",
       "0        -0.745131 -1.236478     0.634448               -1.232433   \n",
       "1         0.949817  2.248194     0.634448                0.811403   \n",
       "2        -0.416562 -0.738668     0.634448                0.811403   \n",
       "3         1.634247  1.750384    -1.576173                0.811403   \n",
       "4         0.566664  0.256953    -1.576173                0.811403   \n",
       "..             ...       ...          ...                     ...   \n",
       "995      -0.544162 -0.738668     0.634448                0.811403   \n",
       "996       0.207612  0.754763     0.634448                0.811403   \n",
       "997      -0.874503 -0.738668     0.634448                0.811403   \n",
       "998      -0.505528  1.999289    -1.576173                0.811403   \n",
       "999       0.462457  1.999289     0.634448               -1.232433   \n",
       "\n",
       "     Checking account_little  Checking account_moderate  Purpose_radio/TV  \n",
       "0                   1.627770                  -0.606621          1.603567  \n",
       "1                  -0.614337                   1.648476          1.603567  \n",
       "2                  -0.614337                  -0.606621         -0.623610  \n",
       "3                   1.627770                  -0.606621         -0.623610  \n",
       "4                   1.627770                  -0.606621         -0.623610  \n",
       "..                       ...                        ...               ...  \n",
       "995                -0.614337                  -0.606621         -0.623610  \n",
       "996                 1.627770                  -0.606621         -0.623610  \n",
       "997                -0.614337                  -0.606621          1.603567  \n",
       "998                 1.627770                  -0.606621          1.603567  \n",
       "999                -0.614337                   1.648476         -0.623610  \n",
       "\n",
       "[1000 rows x 7 columns]"
      ]
     },
     "execution_count": 48,
     "metadata": {},
     "output_type": "execute_result"
    }
   ],
   "source": [
    "x_scaled_dataframe"
   ]
  },
  {
   "cell_type": "code",
   "execution_count": 49,
   "metadata": {},
   "outputs": [
    {
     "data": {
      "text/plain": [
       "0      1\n",
       "1      0\n",
       "2      1\n",
       "3      1\n",
       "4      0\n",
       "      ..\n",
       "995    1\n",
       "996    1\n",
       "997    1\n",
       "998    0\n",
       "999    1\n",
       "Name: Risk_good, Length: 1000, dtype: uint8"
      ]
     },
     "execution_count": 49,
     "metadata": {},
     "output_type": "execute_result"
    }
   ],
   "source": [
    "y_new"
   ]
  },
  {
   "cell_type": "code",
   "execution_count": 50,
   "metadata": {},
   "outputs": [],
   "source": [
    "x = x_scaled_dataframe\n",
    "y = y_new"
   ]
  },
  {
   "cell_type": "code",
   "execution_count": 51,
   "metadata": {},
   "outputs": [
    {
     "data": {
      "text/plain": [
       "LogisticRegression()"
      ]
     },
     "execution_count": 51,
     "metadata": {},
     "output_type": "execute_result"
    }
   ],
   "source": [
    "from sklearn.naive_bayes import GaussianNB\n",
    "clf_gnb = GaussianNB()\n",
    "clf_gnb.fit(x,y)\n",
    "\n",
    "from sklearn.tree import DecisionTreeClassifier\n",
    "clf_tree = DecisionTreeClassifier()\n",
    "clf_tree.fit(x,y)\n",
    "\n",
    "from sklearn.neighbors import KNeighborsClassifier\n",
    "clf_neighbors = KNeighborsClassifier()\n",
    "clf_neighbors.fit(x,y)\n",
    "\n",
    "from sklearn.linear_model import LogisticRegression\n",
    "clf_lg = LogisticRegression()\n",
    "clf_lg.fit(x,y)"
   ]
  },
  {
   "cell_type": "code",
   "execution_count": 52,
   "metadata": {},
   "outputs": [
    {
     "name": "stdout",
     "output_type": "stream",
     "text": [
      "[0.7005988  0.69069069 0.76276276]\n",
      "[0.67365269 0.65465465 0.65765766]\n",
      "[0.68862275 0.72372372 0.71171171]\n",
      "[0.70958084 0.72972973 0.75675676]\n"
     ]
    }
   ],
   "source": [
    "from sklearn.model_selection import cross_val_score\n",
    "#Naive Bayes\n",
    "print(cross_val_score(clf_gnb, x,y, cv = 3, scoring = \"accuracy\"))\n",
    "\n",
    "#Decision Tree\n",
    "print(cross_val_score(clf_tree, x,y, cv = 3, scoring = \"accuracy\"))\n",
    "\n",
    "#KNeighbours\n",
    "print(cross_val_score(clf_neighbors, x,y, cv = 3, scoring = \"accuracy\"))\n",
    "\n",
    "#Logistic Regression\n",
    "print(cross_val_score(clf_lg, x,y, cv = 3, scoring = \"accuracy\"))"
   ]
  },
  {
   "cell_type": "code",
   "execution_count": 53,
   "metadata": {},
   "outputs": [],
   "source": [
    "from sklearn.model_selection import cross_val_predict\n",
    "\n",
    "clf_gnb_pred = cross_val_predict(clf_gnb, x, y ,cv = 3)\n",
    "clf_tree_pred = cross_val_predict(clf_tree, x, y ,cv = 3)\n",
    "clf_neighbors_pred = cross_val_predict(clf_neighbors, x, y ,cv = 3)\n",
    "clf_lg_pred = cross_val_predict(clf_lg, x, y ,cv = 3)"
   ]
  },
  {
   "cell_type": "code",
   "execution_count": 54,
   "metadata": {},
   "outputs": [
    {
     "name": "stdout",
     "output_type": "stream",
     "text": [
      "[[113 187]\n",
      " [ 95 605]]\n",
      "[[139 161]\n",
      " [179 521]]\n",
      "[[112 188]\n",
      " [104 596]]\n",
      "[[102 198]\n",
      " [ 70 630]]\n"
     ]
    }
   ],
   "source": [
    "from sklearn.metrics import confusion_matrix\n",
    "#Naive Bayes\n",
    "print(confusion_matrix(y, clf_gnb_pred))\n",
    "\n",
    "#Decision Tree\n",
    "print(confusion_matrix(y, clf_tree_pred))\n",
    "\n",
    "#KNN\n",
    "print(confusion_matrix(y, clf_neighbors_pred))\n",
    "\n",
    "#Logistic Regression\n",
    "print(confusion_matrix(y, clf_lg_pred))"
   ]
  },
  {
   "cell_type": "code",
   "execution_count": 55,
   "metadata": {},
   "outputs": [
    {
     "name": "stdout",
     "output_type": "stream",
     "text": [
      "Precision Score: 0.7638888888888888\n",
      "Recall Score:  0.8642857142857143\n",
      "F1 Score: 0.8109919571045576\n",
      "Precision Score: 0.7639296187683284\n",
      "Recall Score:  0.7442857142857143\n",
      "F1 Score: 0.7539797395079594\n",
      "Precision Score: 0.7602040816326531\n",
      "Recall Score:  0.8514285714285714\n",
      "F1 Score: 0.8032345013477089\n",
      "Precision Score: 0.7608695652173914\n",
      "Recall Score:  0.9\n",
      "F1 Score: 0.824607329842932\n"
     ]
    }
   ],
   "source": [
    "from sklearn.metrics import precision_score, recall_score, f1_score\n",
    "\n",
    "#Naive Bayes\n",
    "print(\"Precision Score:\", precision_score(y, clf_gnb_pred))\n",
    "print(\"Recall Score: \", recall_score(y, clf_gnb_pred))\n",
    "print(\"F1 Score:\", f1_score(y, clf_gnb_pred))\n",
    "\n",
    "#Decision Tree\n",
    "print(\"Precision Score:\", precision_score(y, clf_tree_pred))\n",
    "print(\"Recall Score: \", recall_score(y, clf_tree_pred))\n",
    "print(\"F1 Score:\", f1_score(y, clf_tree_pred))\n",
    "\n",
    "#KNeighbors\n",
    "print(\"Precision Score:\", precision_score(y, clf_neighbors_pred))\n",
    "print(\"Recall Score: \", recall_score(y, clf_neighbors_pred))\n",
    "print(\"F1 Score:\", f1_score(y, clf_neighbors_pred))\n",
    "\n",
    "#Logistic Regression\n",
    "print(\"Precision Score:\", precision_score(y, clf_lg_pred))\n",
    "print(\"Recall Score: \", recall_score(y, clf_lg_pred))\n",
    "print(\"F1 Score:\", f1_score(y, clf_lg_pred))"
   ]
  },
  {
   "cell_type": "markdown",
   "metadata": {},
   "source": [
    "References - \n",
    "\n",
    "    1.https://towardsdatascience.com/how-to-perform-exploratory-data-analysis-with-seaborn-97e3413e841d\n",
    "    2.https://towardsdatascience.com/feature-selection-with-pandas-e3690ad8504b"
   ]
  },
  {
   "cell_type": "code",
   "execution_count": null,
   "metadata": {},
   "outputs": [],
   "source": []
  }
 ],
 "metadata": {
  "kernelspec": {
   "display_name": "Python 3",
   "language": "python",
   "name": "python3"
  },
  "language_info": {
   "codemirror_mode": {
    "name": "ipython",
    "version": 3
   },
   "file_extension": ".py",
   "mimetype": "text/x-python",
   "name": "python",
   "nbconvert_exporter": "python",
   "pygments_lexer": "ipython3",
   "version": "3.8.3"
  }
 },
 "nbformat": 4,
 "nbformat_minor": 4
}
