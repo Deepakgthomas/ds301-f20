{
 "cells": [
  {
   "cell_type": "markdown",
   "metadata": {},
   "source": [
    "**DS 301: Applied Data Modeling and Predictive Analysis**\n",
    "\n",
    "# Lab 5 – Support Vector Machine\n",
    "\n",
    "Nok Wongpiromsarn, 25 September 2020\n",
    "\n",
    "**Instructions:**\n",
    "1. Visualize the Iris data. Which pairs of the 3 species (setosa, versicolor, virginica) are linearly separable?\n",
    "2. Construct a binary target y_virginica such that it is 1 if the instance is Virginica and is 0 otherwise. (Hint: See how we set up the binary target 5 and not-5 in Lecture 5.)\n",
    "3. Train LinearSVC, SVC, and SGDClassifier to identify whether a given instance is Virginica. Use C = 1. Don't forget to scale your data!\n",
    "4. Pick one of the 3 classifiers and report the following performance measures.\n",
    "   1. training accuracy\n",
    "   2. cross-validation accuracy\n",
    "   3. confusion matrix\n",
    "   4. precision\n",
    "   5. recall\n",
    "   6. F1\n",
    "   7. AUC"
   ]
  },
  {
   "cell_type": "markdown",
   "metadata": {},
   "source": [
    "**Setup the data**"
   ]
  },
  {
   "cell_type": "code",
   "execution_count": null,
   "metadata": {},
   "outputs": [],
   "source": [
    "from sklearn import datasets\n",
    "\n",
    "iris = datasets.load_iris()\n",
    "X = iris['data'][:,(2,3)] # petal length, petal width\n",
    "y = iris[\"target\"]\n",
    "\n",
    "print(iris.target_names)\n",
    "print(iris.feature_names)"
   ]
  },
  {
   "cell_type": "markdown",
   "metadata": {},
   "source": [
    "**Separate the input to based on their labels**"
   ]
  },
  {
   "cell_type": "code",
   "execution_count": null,
   "metadata": {},
   "outputs": [],
   "source": [
    "X_setosa = X[y == 0]\n",
    "X_versicolor = X[y == 1]\n",
    "X_virginica = X[y == 2]"
   ]
  },
  {
   "cell_type": "markdown",
   "metadata": {},
   "source": [
    "### 1. Visualize the data. Which pairs of these classes are linearly separable?"
   ]
  },
  {
   "cell_type": "markdown",
   "metadata": {},
   "source": [
    "### 2. Construct a binary target y_virginica such that it is 1 if the instance is Virginica and is 0 otherwise"
   ]
  },
  {
   "cell_type": "markdown",
   "metadata": {},
   "source": [
    "### 3. Train LinearSVC, SVC, and SGDClassifier to identify whether a given instance is Virginica."
   ]
  },
  {
   "cell_type": "markdown",
   "metadata": {},
   "source": [
    "### 4. Pick one of the 3 classifiers and report the following performance measures\n",
    "\n",
    "- training accuracy\n",
    "- cross-validation accuracy\n",
    "- confusion matrix\n",
    "- precision\n",
    "- recall\n",
    "- F1\n",
    "- AUC\n"
   ]
  },
  {
   "cell_type": "code",
   "execution_count": null,
   "metadata": {},
   "outputs": [],
   "source": []
  }
 ],
 "metadata": {
  "kernelspec": {
   "display_name": "Python 3",
   "language": "python",
   "name": "python3"
  },
  "language_info": {
   "codemirror_mode": {
    "name": "ipython",
    "version": 3
   },
   "file_extension": ".py",
   "mimetype": "text/x-python",
   "name": "python",
   "nbconvert_exporter": "python",
   "pygments_lexer": "ipython3",
   "version": "3.8.3"
  }
 },
 "nbformat": 4,
 "nbformat_minor": 4
}
